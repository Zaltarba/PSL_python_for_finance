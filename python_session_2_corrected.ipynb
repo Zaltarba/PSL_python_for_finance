{
  "cells": [
    {
      "cell_type": "markdown",
      "metadata": {
        "id": "9UOkwPFBZUaR"
      },
      "source": [
        "<img src=\"https://dauphine.psl.eu/fileadmin/_processed_/9/2/csm_damier_logo_Dauphine_f7b37a1ff2.jpg\" width=\"200\" style=\"vertical-align:middle\" /> <h1>Master 222: Introduction to Python - Session 2</h1>"
      ]
    },
    {
      "cell_type": "markdown",
      "metadata": {
        "id": "Uc_gjE9_jgBg"
      },
      "source": [
        "[![Open In Colab](https://colab.research.google.com/assets/colab-badge.svg)](https://colab.research.google.com/github/Zaltarba/PSL_python_for_finance/blob/main/python_session_2_corrected.ipynb)\n"
      ]
    },
    {
      "cell_type": "markdown",
      "metadata": {
        "id": "R5QIyWQ8QtZ1"
      },
      "source": [
        "# Remainders From Last Session\n",
        "\n",
        "## Temperature Data Analysis\n",
        "\n",
        "**Introduction**\n",
        "You're provided with a list of temperatures (in degrees Celsius) spanning over a week:\n",
        "``` python\n",
        "temperatures = [20.5, 22.3, 19.8, 21.6, 23.2, 18.9, 20.2]\n",
        "```\n",
        "Your task is to analyze this data by developing specific functions and then interpreting the results.\n",
        "\n",
        "**Functions to Develop**\n",
        "\n",
        "1.   Function `average_temp()`:\n",
        "\n",
        "*Input:* A list of temperatures.\n",
        "\n",
        "*Task:* Calculate the average temperature for the week.\n",
        "\n",
        "*Return:* The average temperature.\n",
        "\n",
        "2. Function `hot_days_count()`:\n",
        "\n",
        "*Input:* A list of temperatures.\n",
        "\n",
        "*Task:* Determine the number of days the temperature was above 21°C.\n",
        "\n",
        "*Return:* The count of days.\n",
        "\n",
        "3. Function `coldest_day()`:\n",
        "\n",
        "*Input:* A list of temperatures.\n",
        "\n",
        "*Task:* Identify the index of the coldest day (0 for Monday, 6 for Sunday).\n",
        "\n",
        "*Return:* The index of the day.\n",
        "\n",
        "**Display the Results**\n",
        "\n",
        "After you've developed and tested your functions, you should:\n",
        "\n",
        "- Print the average temperature of the week.\n",
        "- Print the number of days when the temperature was above 21°C.\n",
        "- Print the coldest day of the week based on the index (e.g., \"The coldest day was Wednesday...\").\n",
        "\n",
        "**Sample output**\n",
        "``` python\n",
        "The average temperature for the week is: 20.79°C.\n",
        "There were 3 days with a temperature above 21°C.\n",
        "The coldest day was Wednesday with a temperature of 18.9°C.\n",
        "```\n",
        " \n",
        "Try using a list by comprehension for question 1 and 2.  \n",
        "Use a dictionary for the question 3 to map indices to days of the week."
      ]
    },
    {
      "cell_type": "code",
      "execution_count": 1,
      "metadata": {
        "id": "JAip9uRER_Q3"
      },
      "outputs": [
        {
          "name": "stdout",
          "output_type": "stream",
          "text": [
            "The average temperature for the week is: 20.928571428571423°C\n",
            "There were 3 days with a temperature above 21°C\n",
            "The coldest day was Saturday with a temperature of 18.9 °C\n"
          ]
        }
      ],
      "source": [
        "temperatures = [20.5, 22.3, 19.8, 21.6, 23.2, 18.9, 20.2]\n",
        "## Insert your code here\n",
        "from typing import List \n",
        "\n",
        "def average_temp(temperatures:List[float])->float:\n",
        "    return sum(temperatures) / len(temperatures)\n",
        "\n",
        "print(f\"The average temperature for the week is: {average_temp(temperatures)}°C\")\n",
        "\n",
        "def hot_days_count(temperatures:list[float])->int:\n",
        "    return sum([1 if temp > 21 else 0 for temp in temperatures])\n",
        "\n",
        "print(f\"There were {hot_days_count(temperatures)} days with a temperature above 21°C\")\n",
        "\n",
        "index_to_days = {\n",
        "    0:'Monday', \n",
        "    1:'Tuesday', \n",
        "    2:'Wednesday', \n",
        "    3:'Thursday', \n",
        "    4:'Friday', \n",
        "    5:'Saturday', \n",
        "    6:'Sunday', \n",
        "    }\n",
        "\n",
        "def coldest_day(temperatures):\n",
        "    min_index = 0\n",
        "    min_temp = temperatures[0]\n",
        "    for index, temp in enumerate(temperatures):\n",
        "        if temp < min_temp:\n",
        "            min_index = index\n",
        "            min_temp = temp\n",
        "    return min_index\n",
        "\n",
        "min_index = coldest_day(temperatures)\n",
        "print(f\"The coldest day was {index_to_days[min_index]} with a temperature of {temperatures[min_index]} °C\")"
      ]
    },
    {
      "cell_type": "markdown",
      "metadata": {
        "id": "wAriYIftuAcc"
      },
      "source": [
        "# The NumPy library\n",
        "\n",
        "## Context and Objective\n",
        "\n",
        "Python is an almost indispensable programming language in the world of Quantitative finance.   \n",
        "It's open source, and increasingly popular.  \n",
        "In this exercise, you will learn to use the NumPy module.  \n",
        "NumPy is a Python package specialized in the manipulation of arrays.  \n",
        "This exercise will only focus on one-dimensional arrays (vectors) and two-dimensional arrays (matrices).\n",
        "\n",
        "[For more information on NumPy](http://www.numpy.org/)\n",
        "\n",
        "## Prerequisite Skills\n",
        "\n",
        "- Basic programming concepts\n",
        "- Lists\n",
        "- Basic linear algebra concepts\n",
        "\n",
        "## Exercice 1 \n",
        "\n",
        "The exercise is composed of several questions.   \n",
        "To begin, execute the following preamble cell:\n"
      ]
    },
    {
      "cell_type": "code",
      "execution_count": 2,
      "metadata": {
        "id": "FhkVIupot_Ms"
      },
      "outputs": [],
      "source": [
        "import numpy as np"
      ]
    },
    {
      "cell_type": "markdown",
      "metadata": {
        "id": "cCWtCwZRuaH-"
      },
      "source": [
        "In Python, an array is an ordered collection of values, which can be of any type, not **only numbers**.\n",
        "\n",
        "The `array()` method allows you to define a **one-dimensional array** from a list. Given `X` as a list of values, you can use the command `np.array(X)` to transform the list into a one-dimensional array.\n",
        "\n",
        "1. Create an array from the list `[1,1,1,1]`"
      ]
    },
    {
      "cell_type": "code",
      "execution_count": 3,
      "metadata": {
        "id": "5HvkPTe2uIz0"
      },
      "outputs": [],
      "source": [
        "## Insert your code here\n",
        "a = np.array([1, 1, 1, 1])"
      ]
    },
    {
      "cell_type": "markdown",
      "metadata": {
        "id": "oI0_wcMeucbH"
      },
      "source": [
        "There are commands to inquire about the variables we are manipulating. Here's a table summarizing these commands:\n",
        "\n",
        "| Command    | Effect                                         | Example                     |\n",
        "|------------|------------------------------------------------|-----------------------------|\n",
        "| type(X)    | Returns the type of the variable X            | type(2) returns `<class 'int'>`      |\n",
        "| np.shape(X)| Returns the dimension of the variable X       | np.shape([1,2]) returns (2,) |\n",
        "\n",
        "By default, Numpy creates one-dimensional arrays from lists. If you want a different dimension, you should specify it using the command `np.reshape(X, new_shape)` where `X` is the array whose dimensions you want to change.\n",
        "\n",
        "2. Create a variable *a* and assign to it an array with the list [1,2,3,4,5]\n",
        "3. Verify that its dimension is indeed (5,)"
      ]
    },
    {
      "cell_type": "code",
      "execution_count": 4,
      "metadata": {
        "id": "e9tap3Ocupx3"
      },
      "outputs": [
        {
          "name": "stdout",
          "output_type": "stream",
          "text": [
            "(5,)\n"
          ]
        }
      ],
      "source": [
        "## Insert your code here\n",
        "a = np.array([1, 2, 3, 4, 5])\n",
        "print(a.shape)"
      ]
    },
    {
      "cell_type": "markdown",
      "metadata": {
        "id": "8mLHt8rMuqdB"
      },
      "source": [
        "Now that we've seen how to get information about arrays, we'd like to create some. There are various commands to generate one-dimensional arrays. Here's a table summarizing them:\n",
        "\n",
        "| Command               | Meaning                                                        | Example                                    |\n",
        "|-----------------------|----------------------------------------------------------------|--------------------------------------------|\n",
        "| np.ones(n)            | Returns an array of dimension (n,) of 1s                        | np.ones(5) returns array([1, 1, 1, 1, 1])  |\n",
        "| np.zeros(n)           | Returns an array of dimension (n,) of 0s                        | np.zeros(5) returns array([0, 0, 0, 0, 0]) |\n",
        "| np.arange(n)          | Returns an array of dim(n,) of ordered numbers from 0 to n-1    | np.arange(5) returns array([0, 1, 2, 3, 4])|\n",
        "| np.linspace(a,b,n)    | Returns an array of dim(n,) of n numbers evenly spaced between a and b | np.linspace(0,5,5) returns array([0, 1.25, 2.5, 3.75, 5.0])|\n",
        "| np.linspace(a,b)      | Returns an array of dim(50,) of 50 numbers evenly spaced between a and b |                                            |\n",
        "| np.concatenate((X,Y)) | Returns an array of dim(dimX+dimY,) resulting from the assembly of X and Y | np.concatenate((array([1]),array([0]))) returns array([1,0])|\n",
        "\n",
        "4. Create 4 variables a, b, c, d\n",
        "    - Assign to a an array with 5 zeros\n",
        "    - Assign to b an array with 5 ones\n",
        "    - Assign to c an array of size 10 containing 5 zeros followed by 5 ones, arranged judiciously.\n",
        "    - Assign to c an array of the integers from 10 to 50.\n",
        "\n"
      ]
    },
    {
      "cell_type": "code",
      "execution_count": 5,
      "metadata": {
        "id": "LKjtoLTSvDN8"
      },
      "outputs": [
        {
          "name": "stdout",
          "output_type": "stream",
          "text": [
            "Array a [0. 0. 0. 0. 0.]\n",
            "Array b [1. 1. 1. 1. 1.]\n",
            "Array c [0. 0. 0. 0. 0. 1. 1. 1. 1. 1.]\n",
            "Array d [10 11 12 13 14 15 16 17 18 19 20 21 22 23 24 25 26 27 28 29 30 31 32 33\n",
            " 34 35 36 37 38 39 40 41 42 43 44 45 46 47 48 49 50]\n"
          ]
        }
      ],
      "source": [
        "## Insert your code here\n",
        "a = np.zeros(5)\n",
        "print(\"Array a\", a)\n",
        "b = np.ones(5)\n",
        "print(\"Array b\", b)\n",
        "c = np.concatenate((a, b))\n",
        "print(\"Array c\", c)\n",
        "d = np.arange(10, 51,)\n",
        "print(\"Array d\", d)"
      ]
    },
    {
      "cell_type": "markdown",
      "metadata": {
        "id": "5ph-wtdfvP4W"
      },
      "source": [
        "5. Generate two arrays of ordered numbers from 0 to 10 (thus of size 11) using different commands."
      ]
    },
    {
      "cell_type": "code",
      "execution_count": 6,
      "metadata": {
        "id": "0xZnIuCFvQLx"
      },
      "outputs": [
        {
          "name": "stdout",
          "output_type": "stream",
          "text": [
            "First method [ 0  1  2  3  4  5  6  7  8  9 10]\n",
            "Second method [ 0  1  2  3  4  5  6  7  8  9 10]\n"
          ]
        }
      ],
      "source": [
        "## Insert your code here\n",
        "a = np.array(list(range(0, 11)))\n",
        "print(\"First method\", a)\n",
        "b = np.arange(0, 11)\n",
        "print(\"Second method\", b)"
      ]
    },
    {
      "cell_type": "markdown",
      "metadata": {
        "id": "lK7yW4_XvRpX"
      },
      "source": [
        "6. Create a list `c` with numbers ranging from 0 to 10 **A list, not an array**. \n",
        "    - Use the following syntax: `list(range())`.\n",
        "    - Add 5 to all the terms in `c` \n",
        "        - without the numpy library.\n",
        "        - with the numpy library.\n",
        "    - Display `c`.\n"
      ]
    },
    {
      "cell_type": "code",
      "execution_count": 9,
      "metadata": {
        "id": "DaOh7T6cvcSl"
      },
      "outputs": [
        {
          "name": "stdout",
          "output_type": "stream",
          "text": [
            "List c [5, 6, 7, 8, 9, 10, 11, 12, 13, 14, 15]\n",
            "Array c [ 5  6  7  8  9 10 11 12 13 14 15]\n"
          ]
        }
      ],
      "source": [
        "import numpy as np\n",
        "## Insert your code here\n",
        "c = list(range(0, 11))\n",
        "c = [element+5 for element in c]\n",
        "print(\"List c\", c)\n",
        "\n",
        "c = list(range(0, 11))\n",
        "c = np.array(c)\n",
        "c += 5\n",
        "print(\"Array c\", c)"
      ]
    },
    {
      "cell_type": "markdown",
      "metadata": {
        "id": "ykfObg7bvdHc"
      },
      "source": [
        "We can perform similar operations with matrices, which are 2-dimensional arrays.\n",
        "\n",
        "Thus, `np.ones((n, p))` returns an `NxP` matrix filled with ones, `np.zeros((n, p))` returns an `NxP` matrix filled with zeros.\n",
        "\n",
        "`np.diag(v)` returns a matrix whose diagonal consists of the vector v. \n",
        "Moreover, `np.diag(v, k)` returns a matrix where the k-th diagonal consists of the vector v, k can be positive or negative; if k is positive, the shift is to the \"right,\" otherwise to the left.\n",
        "\n",
        "7. Create a matrix *mat* of size 5x5 with 1s on the diagonal."
      ]
    },
    {
      "cell_type": "code",
      "execution_count": 8,
      "metadata": {
        "id": "3c0YqbgbvwcP"
      },
      "outputs": [
        {
          "name": "stdout",
          "output_type": "stream",
          "text": [
            "[[1. 0. 0. 0. 0.]\n",
            " [0. 1. 0. 0. 0.]\n",
            " [0. 0. 1. 0. 0.]\n",
            " [0. 0. 0. 1. 0.]\n",
            " [0. 0. 0. 0. 1.]]\n"
          ]
        }
      ],
      "source": [
        "## Insert your code here\n",
        "diagonal = np.ones(5)\n",
        "mat = np.diag(diagonal)\n",
        "print(mat)"
      ]
    },
    {
      "cell_type": "markdown",
      "metadata": {
        "id": "SD0F7LOSv5GH"
      },
      "source": [
        "We can use mathematical operators **+**, **-**, on arrays provided that the mathematical operation makes sense.\n",
        "\n",
        "**Caution: If you use the operators '\\*' or '/' you will only perform a term-by-term operation**  \n",
        "\n",
        "8. Create a 6x6 matrix with 1s on the diagonal and on the sub-diagonal using a mathematical operator."
      ]
    },
    {
      "cell_type": "code",
      "execution_count": 9,
      "metadata": {
        "id": "f3sQ2gCev5bB"
      },
      "outputs": [
        {
          "name": "stdout",
          "output_type": "stream",
          "text": [
            "[[1. 0. 0. 0. 0. 0.]\n",
            " [1. 1. 0. 0. 0. 0.]\n",
            " [0. 1. 1. 0. 0. 0.]\n",
            " [0. 0. 1. 1. 0. 0.]\n",
            " [0. 0. 0. 1. 1. 0.]\n",
            " [0. 0. 0. 0. 1. 1.]]\n"
          ]
        }
      ],
      "source": [
        "## Insert your code here\n",
        "diagonal = np.ones(6)\n",
        "sub_diagonal = np.ones(5)\n",
        "\n",
        "mat = np.diag(diagonal) + np.diag(sub_diagonal, -1)\n",
        "print(mat)"
      ]
    },
    {
      "cell_type": "markdown",
      "metadata": {
        "id": "uZa1ER-mwIFN"
      },
      "source": [
        "Accessing specific elements of an array is done similarly to lists. If the array is two-dimensional, two parameters are needed.\n",
        "\n",
        "*For example*: let X be a two-dimensional array, `X[0, 0]` returns the element located at row 1, column 1. `X[:, 0]` returns the first column. `X[0:3, 0]` returns the first three rows of the first column. This method is referred to as *slicing* in programming.\n",
        "\n",
        "9. Create this matrix using `np.ones()`, `np.diag()` and slicing:\n",
        "$$\n",
        "\\begin{pmatrix}\n",
        "5 & 0 & 0 & 0 \\\\\n",
        "5 & 1 & 0 & 0 \\\\\n",
        "4 & 4 & 4 & 4 \\\\\n",
        "5 & 0 & 0 & 1\n",
        "\\end{pmatrix}\n",
        "$$"
      ]
    },
    {
      "cell_type": "code",
      "execution_count": 3,
      "metadata": {
        "id": "ax8kpF2uwIcL"
      },
      "outputs": [
        {
          "name": "stdout",
          "output_type": "stream",
          "text": [
            "[[5. 0. 0. 0.]\n",
            " [5. 1. 0. 0.]\n",
            " [4. 4. 4. 4.]\n",
            " [5. 0. 0. 1.]]\n"
          ]
        }
      ],
      "source": [
        "## Insert your code here\n",
        "mat = np.zeros((4, 4))\n",
        "mat[:, 0] = 5\n",
        "mat[2, :] = 4\n",
        "mat[1, 1] = 1\n",
        "mat[3, 3] = 1\n",
        "print(mat)"
      ]
    },
    {
      "cell_type": "markdown",
      "metadata": {},
      "source": [
        "10. Create a numpy array with only ones of shape N, T\n",
        "11. Using slicing access create :\n",
        "    - a matrix_a array with all N and T from 0 to 5\n",
        "    - a matrix_b array with all N and T from T-5 to T-1"
      ]
    },
    {
      "cell_type": "code",
      "execution_count": 11,
      "metadata": {},
      "outputs": [
        {
          "name": "stdout",
          "output_type": "stream",
          "text": [
            "(500, 5)\n",
            "(500, 5)\n"
          ]
        }
      ],
      "source": [
        "N, T = 500, 252\n",
        "## Insert your code here\n",
        "mat = np.ones((N, T))\n",
        "matrix_a = mat[:, 0:5]\n",
        "print(matrix_a.shape)\n",
        "matrix_b = mat[:, -5:]\n",
        "print(matrix_b.shape)"
      ]
    },
    {
      "cell_type": "markdown",
      "metadata": {
        "id": "plIvwEMSwX5f"
      },
      "source": [
        "## Exercice 2\n",
        "\n",
        "With the Numpy module, you can create random numbers uniformly distributed between 0 and 1.   \n",
        "The syntax is as follows: `np.random.rand()` to return a single draw, `np.random.rand(n)` to return a row array of n draws, and `np.random.rand(n, p)` to return an NxP matrix of uniformly distributed random draws.\n",
        "\n",
        "1. Display a random number uniformly distributed between 0 and 1"
      ]
    },
    {
      "cell_type": "code",
      "execution_count": 12,
      "metadata": {
        "id": "y5GdVrK4wYRK"
      },
      "outputs": [
        {
          "name": "stdout",
          "output_type": "stream",
          "text": [
            "0.9628797036569195\n"
          ]
        }
      ],
      "source": [
        "## Insert your code here\n",
        "print(np.random.rand())"
      ]
    },
    {
      "cell_type": "markdown",
      "metadata": {
        "id": "VCOAFkRdwhc7"
      },
      "source": [
        "2. Display a 5x5 matrix of random numbers uniformly distributed between 0 and 1"
      ]
    },
    {
      "cell_type": "code",
      "execution_count": 13,
      "metadata": {
        "id": "Xc4a4v_6wjMQ"
      },
      "outputs": [
        {
          "data": {
            "text/plain": [
              "array([[0.10587505, 0.52137538, 0.66543042, 0.49282186, 0.13480723],\n",
              "       [0.82467883, 0.57436591, 0.03961181, 0.91039435, 0.45936421],\n",
              "       [0.17415153, 0.35017782, 0.07624127, 0.79363371, 0.1610629 ],\n",
              "       [0.96947943, 0.60309311, 0.01419544, 0.27719202, 0.58230632],\n",
              "       [0.2867352 , 0.79222053, 0.19855566, 0.71890401, 0.51010199]])"
            ]
          },
          "execution_count": 13,
          "metadata": {},
          "output_type": "execute_result"
        }
      ],
      "source": [
        "## Insert your code here\n",
        "np.random.rand(5, 5)"
      ]
    },
    {
      "cell_type": "markdown",
      "metadata": {
        "id": "a9QT6fSBwwO_"
      },
      "source": [
        "3. Write a function `random_number()` that takes two integer parameters and returns a random number uniformly distributed between the two integers.\n",
        "4. Call the function `random_number(10, 15)`\n",
        "\n",
        "*Note: If $X \\sim U[0,1]$, then $Y := (b-a)X + a \\sim U[a,b]$*\n",
        "\n",
        "5. Use the function np.rando.uniform to generate a similar variable "
      ]
    },
    {
      "cell_type": "code",
      "execution_count": 14,
      "metadata": {
        "id": "rh8NDNuVww7T"
      },
      "outputs": [
        {
          "name": "stdout",
          "output_type": "stream",
          "text": [
            "10.0313117421264\n"
          ]
        }
      ],
      "source": [
        "## Insert your code here\n",
        "def random_number(a:int, b:int):\n",
        "    return (b-a) * np.random.rand() + a\n",
        "\n",
        "print(random_number(10, 15))\n",
        "\n",
        "def random_number(a:int, b:int):\n",
        "    x = np.random.uniform(a, b)\n",
        "    return x"
      ]
    },
    {
      "cell_type": "markdown",
      "metadata": {
        "id": "rlN_d71TxBUk"
      },
      "source": [
        "6. Write a function `random_matrix()` that takes an integer parameter N and returns a NxN matrix with 1s everywhere except on the diagonal where there are numbers uniformly distributed between 0 and 1.\n",
        "7. Test for N=3 and N=5\n",
        "\n",
        "> Example: `random_matrix(3)` should return a matrix similar to\n",
        "$$\n",
        "\\begin{pmatrix}\n",
        "0.62678954 & 1 & 1 \\\\\n",
        "1 & 0.94077299 & 1 \\\\\n",
        "1 & 1 & 0.29263003 \\\\\n",
        "\\end{pmatrix}\n",
        "$$"
      ]
    },
    {
      "cell_type": "code",
      "execution_count": 15,
      "metadata": {
        "id": "MrT8b64qxBnW"
      },
      "outputs": [
        {
          "name": "stdout",
          "output_type": "stream",
          "text": [
            "[[0.87672096 1.         1.         1.        ]\n",
            " [1.         0.06952482 1.         1.        ]\n",
            " [1.         1.         0.0924764  1.        ]\n",
            " [1.         1.         1.         0.44208032]]\n"
          ]
        }
      ],
      "source": [
        "## Insert your code here\n",
        "def random_matrix(N:int)->np.array:\n",
        "    mat = np.ones((N, N))\n",
        "    mat[range(N), range(N)] = np.random.uniform(0, 1, size=N)\n",
        "    return mat \n",
        "\n",
        "def random_matrix(N:int)->np.array:\n",
        "    mat = np.ones((N, N))\n",
        "    for i in range(N):\n",
        "        mat[i, i] = np.random.uniform(0, 1)\n",
        "    return mat \n",
        "\n",
        "print(random_matrix(4))"
      ]
    },
    {
      "cell_type": "markdown",
      "metadata": {
        "id": "cO7U9vCJxVPm"
      },
      "source": [
        "- In NumPy, operations can be performed between arrays and scalars.\n",
        "> Example:\n",
        "```\n",
        "a = np.array([1, 2, 3])\n",
        "a * 4 returns array([4, 8, 12])\n",
        "a + 2 returns array([3, 4, 5])\n",
        "```\n",
        "\n",
        "8. Create a matrix mat_five of size 5x5 with fives on the diagonal\n",
        "9. Create two matrices mat_two and mat_two_bis of size 5x5 with twos everywhere, in two different ways\n",
        "    - Use a list by comprehension in one method\n",
        "10. Display the matrices"
      ]
    },
    {
      "cell_type": "code",
      "execution_count": 16,
      "metadata": {
        "id": "grSn88lWxprc"
      },
      "outputs": [
        {
          "name": "stdout",
          "output_type": "stream",
          "text": [
            "[[5. 0. 0. 0. 0.]\n",
            " [0. 5. 0. 0. 0.]\n",
            " [0. 0. 5. 0. 0.]\n",
            " [0. 0. 0. 5. 0.]\n",
            " [0. 0. 0. 0. 5.]]\n",
            "[[2 0 0 0 0]\n",
            " [0 2 0 0 0]\n",
            " [0 0 2 0 0]\n",
            " [0 0 0 2 0]\n",
            " [0 0 0 0 2]]\n",
            "[[2 0 0 0 0]\n",
            " [0 2 0 0 0]\n",
            " [0 0 2 0 0]\n",
            " [0 0 0 2 0]\n",
            " [0 0 0 0 2]]\n"
          ]
        }
      ],
      "source": [
        "## Insert your code here\n",
        "mat_five = np.identity(5)*5\n",
        "\n",
        "mat_two = np.array([2 for _ in range(5)])\n",
        "mat_two = np.diag(mat_two)\n",
        "\n",
        "mat_two_bis = np.array([[2 if i == j else 0 for j in range(5)] for i in range(5)])\n",
        "\n",
        "print(mat_five)\n",
        "print(mat_two)\n",
        "print(mat_two_bis)"
      ]
    },
    {
      "cell_type": "markdown",
      "metadata": {
        "id": "DFBP4YlVxp4u"
      },
      "source": [
        "In NumPy, operations between arrays are performed element-wise by default.\n",
        "\n",
        "> Example:\n",
        "```\n",
        "a = np.array([1, 2, 3])\n",
        "b = np.array([4, 5, 6])\n",
        "a * b returns array([4, 10, 18])\n",
        "```\n",
        "\n",
        "To perform matrix multiplication in the mathematical sense, the following syntax is used: np.dot(X,Y)\n",
        "\n",
        "If the dimensions are incompatible, errors are triggered.\n",
        "\n",
        "## Exercice 3\n",
        "\n",
        "1. Create a matrix `mat_one` of size 5x5 with random numbers.\n",
        "2. Create a matrix `mat_two` of size 5x5 with ones everywhere.\n",
        "3. Create a matrix `mat_three` and assign to it the element-wise product between `mat_one` and `mat_two`\n",
        "4. Create a matrix mat_four and assign to it the matrix product between `mat_one` and `mat_two`\n",
        "5. Display `mat_three` and `mat_four`"
      ]
    },
    {
      "cell_type": "code",
      "execution_count": 17,
      "metadata": {
        "id": "KVPRPiaNyEJf"
      },
      "outputs": [
        {
          "name": "stdout",
          "output_type": "stream",
          "text": [
            "[[-0.60998043  0.23092791  0.93527846  0.51144992  0.31260504]\n",
            " [ 0.05682331  0.4262      0.2407506  -0.72673372 -0.97075194]\n",
            " [-0.57945962  0.74044601  0.72833747  0.36828509 -0.74469167]\n",
            " [ 0.76801387  0.79963871  0.67347971  0.98981945  0.38200851]\n",
            " [-0.23966003  0.42311439 -0.66580852 -0.14907656  0.22572185]]\n",
            "[[ 1.38028091  1.38028091  1.38028091  1.38028091  1.38028091]\n",
            " [-0.97371175 -0.97371175 -0.97371175 -0.97371175 -0.97371175]\n",
            " [ 0.51291729  0.51291729  0.51291729  0.51291729  0.51291729]\n",
            " [ 3.61296024  3.61296024  3.61296024  3.61296024  3.61296024]\n",
            " [-0.40570887 -0.40570887 -0.40570887 -0.40570887 -0.40570887]]\n"
          ]
        }
      ],
      "source": [
        "## Insert your code here\n",
        "mat_one = np.random.uniform(-1, 1, size=(5, 5))\n",
        "mat_two = np.ones(shape=(5, 5))\n",
        "mat_three = mat_one * mat_two\n",
        "mat_four = np.matmul(mat_one, mat_two)\n",
        "print(mat_three)\n",
        "print(mat_four)"
      ]
    },
    {
      "cell_type": "markdown",
      "metadata": {
        "id": "IO3vv39XyEe1"
      },
      "source": [
        "\n",
        "6. Create a matrix `a` with dimensions 5x2 with arbitrary values\n",
        "7. Create another matrix `b` with dimensions 2x5 with arbitrary values\n",
        "8. Return the [Hadamard product](https://en.wikipedia.org/wiki/Hadamard_product_(matrices)) of the two matrices here\n",
        "\n"
      ]
    },
    {
      "cell_type": "code",
      "execution_count": 18,
      "metadata": {
        "id": "LFlSHwHuyNXF"
      },
      "outputs": [
        {
          "name": "stdout",
          "output_type": "stream",
          "text": [
            "[[-102.29524622  -95.52405278]\n",
            " [-100.35600367  -99.09655269]\n",
            " [ -95.78157398 -106.41618788]\n",
            " [ -94.057916   -101.90510451]\n",
            " [-101.81900611 -102.30350161]]\n"
          ]
        }
      ],
      "source": [
        "## Insert your code here\n",
        "a = np.random.uniform(10, 11, size=(5, 2))\n",
        "b = np.random.uniform(-10, -9, size=(2, 5))\n",
        "print(a * b.T)"
      ]
    },
    {
      "cell_type": "markdown",
      "metadata": {
        "id": "j7LF_8uryNof"
      },
      "source": [
        "## Exercice 4\n",
        "\n",
        "The use of logical operators is possible via NumPy.\n",
        "\n",
        "1. Create two matrices *mat_one* and *mat_two* of size 5x5 with random values.\n",
        "2. Using the operator `*` and the logical operator '`==`', return a 5x5 matrix of True.\n",
        "3. Using matrix multiplication and the logical operator '`==`', return a 5x5 matrix of False.\n"
      ]
    },
    {
      "cell_type": "code",
      "execution_count": 19,
      "metadata": {
        "id": "dCDkfbx5yafK"
      },
      "outputs": [
        {
          "name": "stdout",
          "output_type": "stream",
          "text": [
            "[[ True  True  True  True  True]\n",
            " [ True  True  True  True  True]\n",
            " [ True  True  True  True  True]\n",
            " [ True  True  True  True  True]\n",
            " [ True  True  True  True  True]]\n",
            "[[False False False False False]\n",
            " [False False False False False]\n",
            " [False False False False False]\n",
            " [False False False False False]\n",
            " [False False False False False]]\n"
          ]
        }
      ],
      "source": [
        "## Insert your code here\n",
        "mat_one = np.random.uniform(-1, 1, size=(5, 5))\n",
        "mat_two = np.random.uniform(-1, 1, size=(5, 5))\n",
        "\n",
        "print(\n",
        "    mat_one * mat_two == mat_two * mat_one\n",
        "    )\n",
        "\n",
        "print(\n",
        "    np.matmul(mat_one, mat_two) == np.matmul(mat_two, mat_one)\n",
        ")"
      ]
    },
    {
      "cell_type": "markdown",
      "metadata": {
        "id": "n9L03pA6yawX"
      },
      "source": [
        "## Exercice 5\n",
        "\n",
        "It is possible to analyze data with NumPy. Here are some functions summarized:\n",
        "\n",
        "| Command   | Meaning                 |\n",
        "|-----------|-------------------------|\n",
        "| np.mean(X) | returns the mean of X   |\n",
        "| np.var(X)  | returns the variance of X|\n",
        "| np.std(X)  | returns the standard deviation of X |\n",
        "| X.sum()  | sums the elements of X   |\n",
        "| X.prod() | multiplies the elements of X |\n",
        "| X.min()  | returns the minimum of X |\n",
        "| X.max()  | returns the maximum of X |\n",
        "\n",
        "Furthermore, when working with matrices, it's possible to specify a second argument or a parameter to clarify where we are working. For example:\n",
        "\n",
        "```\n",
        "mat = np.random.rand(5, 5)\n",
        "np.mean(mat, axis = 0)  ## returns the mean of the rows\n",
        "np.mean(mat, axis = 1) ## returns the mean of the columns\n",
        "mat.sum(axis = 0) ## returns the sum of the rows\n",
        "```\n",
        "\n",
        "1. Verify that the mean of a uniformly distributed law on [0,1] is close to 0.5 for a large number of draws. \n",
        "\n",
        "**Note:**\n",
        "\n",
        "*As the number of draws increases, the mean value of the uniformly distributed random values should converge to 0.5 according to the Law of Large Numbers.*"
      ]
    },
    {
      "cell_type": "code",
      "execution_count": 20,
      "metadata": {
        "id": "6-bGhu1qy4hT"
      },
      "outputs": [
        {
          "name": "stderr",
          "output_type": "stream",
          "text": [
            "100%|██████████| 10/10 [00:00<00:00, 5014.11it/s]"
          ]
        },
        {
          "name": "stdout",
          "output_type": "stream",
          "text": [
            "Error with n = 100 is 0.022649822646442996\n",
            "Error with n = 200 is -0.01905372858759441\n",
            "Error with n = 300 is -0.05296456455530535\n",
            "Error with n = 400 is -0.01395904606883469\n",
            "Error with n = 500 is 0.0033162949462834934\n",
            "Error with n = 600 is -0.004525925196070368\n",
            "Error with n = 700 is 0.005880769838557676\n",
            "Error with n = 800 is -0.016859846605157935\n",
            "Error with n = 900 is -0.009368862135345435\n",
            "Error with n = 1000 is 0.002685893301579867\n"
          ]
        },
        {
          "name": "stderr",
          "output_type": "stream",
          "text": [
            "\n"
          ]
        }
      ],
      "source": [
        "## Insert your code here\n",
        "def mean_approximation(n):\n",
        "    return np.random.uniform(0, 1, size=n).mean()\n",
        "\n",
        "from tqdm import tqdm\n",
        "\n",
        "for k in tqdm(range(1, 11)):\n",
        "    n = 100 * k\n",
        "    print(f\"Error with n = {n} is {mean_approximation(n)-0.5}\")"
      ]
    },
    {
      "cell_type": "markdown",
      "metadata": {
        "id": "aOl281MZy43-"
      },
      "source": [
        "2. Approximate $\\pi$ using the folowing equation, using only Numpy methods and a function\n",
        "$$\n",
        "\\frac{\\pi}2=\\prod_{n=1}^{\\infty}\\frac{4n^2}{4n^2-1}\n",
        "$$\n",
        "```python \n",
        "def pi_approximation(n)\n",
        "    ...\n",
        "    return approx\n",
        "``` \n",
        "\n",
        "3. Compare using `np.math.pi` for different values of n using \n",
        "\n",
        "```python \n",
        "from tqdm import tqdm \n",
        "for n in tqdm(range(1, 100, 10)):\n",
        "```"
      ]
    },
    {
      "cell_type": "code",
      "execution_count": 21,
      "metadata": {
        "id": "U2CKFcRtzzOs"
      },
      "outputs": [
        {
          "name": "stderr",
          "output_type": "stream",
          "text": [
            "100%|██████████| 10/10 [00:00<00:00, 2499.88it/s]"
          ]
        },
        {
          "name": "stdout",
          "output_type": "stream",
          "text": [
            "Error with n = 1 is -1.1415926535897931\n",
            "Error with n = 11 is -0.0738888469462946\n",
            "Error with n = 21 is -0.03807569205056005\n",
            "Error with n = 31 is -0.025644367701834536\n",
            "Error with n = 41 is -0.019332327168355867\n",
            "Error with n = 51 is -0.015513753374382322\n",
            "Error with n = 61 is -0.012954855698201762\n",
            "Error with n = 71 is -0.011120577270728571\n",
            "Error with n = 81 is -0.009741302217184167\n",
            "Error with n = 91 is -0.008666412962285097\n"
          ]
        },
        {
          "name": "stderr",
          "output_type": "stream",
          "text": [
            "\n"
          ]
        }
      ],
      "source": [
        "## Insert your code here\n",
        "def pi_approximation(n:int)->float:\n",
        "    approx = [4*k**2 / (4*k**2 - 1) for k in range(1, n)]\n",
        "    approx = np.prod(approx)\n",
        "    return 2*approx\n",
        "\n",
        "for n in tqdm(range(1, 100, 10)):\n",
        "    print(f\"Error with n = {n} is {pi_approximation(n)-np.pi}\")"
      ]
    },
    {
      "cell_type": "markdown",
      "metadata": {
        "id": "795txQ200QNb"
      },
      "source": [
        "## To go further..\n",
        "\n",
        "**Exercise :**\n",
        "- Create a 3x3 matrix with values ranging from 0 to 8 using `np.reshape`.\n",
        "- Create a 3x3 identity matrix with a built in numpy function.\n",
        "- Use indexing to replace the top row of the identity matrix with 9s. Make sure not to modify the initial matrix.\n",
        "\n",
        "**Exercise :**\n",
        "- Generate a random array of size 25, folowing a normal distribution. Find its mean.\n",
        "- Generate a random matrix of size 5x5. Find the sum of all the elements, the sum of the columns, and the sum of the rows.\n",
        "\n",
        "**Exercise :**\n",
        "- Create an array of 10 random numbers. Replace all the values less than 0.5 with 0.\n",
        "\n",
        "**Exercise :**\n",
        "- Using np.random.uniform estimate the value of pi.\n",
        "\n",
        "**Hint:** Use the probability of a random point $X = (x_1, x_2)$ with $X \\in [-1, 1]^2$ to belong to the unit circle.\n",
        "\n",
        "**Exercise :**\n",
        "\n",
        "This exercie aims to illustrate the difference in computation between Python `list` and `NumPy` arrays.\n",
        "\n",
        "1. Create a Python `my_list` of 100 000 integers using `range`.\n",
        "2. Create a Python `my_array` of 100 000 integers using `np.arange`.\n",
        "3. Compute the sum of all elements:\n",
        "   - Using the built-in `sum()` function on the Python list.\n",
        "   - Using the `np.sum()` function on the NumPy array.\n",
        "4. Compare the execution times of the two approaches.\n",
        "\n",
        "**Hint:** Use the `%timeit` magic command in a Jupyter notebook or the `time` module in Python to measure performance (only when computing the sum).\n",
        "\n",
        "``` python\n",
        "%timeit sum(py_list)\n",
        "```"
      ]
    },
    {
      "cell_type": "code",
      "execution_count": 22,
      "metadata": {
        "id": "-myE0Qo5zzTE"
      },
      "outputs": [
        {
          "name": "stdout",
          "output_type": "stream",
          "text": [
            "[[0 1 2]\n",
            " [3 4 5]\n",
            " [6 7 8]]\n",
            "[[1. 0. 0.]\n",
            " [0. 1. 0.]\n",
            " [0. 0. 1.]]\n",
            "[[9. 9. 9.]\n",
            " [0. 1. 0.]\n",
            " [0. 0. 1.]]\n",
            "[[1. 0. 0.]\n",
            " [0. 1. 0.]\n",
            " [0. 0. 1.]]\n",
            "-0.21605340617814173\n",
            "-46.75523835384017\n",
            "[-24.07912324  -3.30440363   6.14573239 -18.01821899  -7.49922487]\n",
            "[-15.91272108  -0.77060388 -10.28658125  -5.76197769 -14.02335445]\n",
            "[0.63636549 0.18511469 0.96463824 0.65297814 0.02611766 0.40898013\n",
            " 0.85526836 0.92264248 0.73681478 0.30850488]\n",
            "[ 0.63636549 -1.          0.96463824  0.65297814 -1.         -1.\n",
            "  0.85526836  0.92264248  0.73681478 -1.        ]\n",
            "3.28\n",
            "3.164\n",
            "3.1196\n"
          ]
        },
        {
          "name": "stdout",
          "output_type": "stream",
          "text": [
            "2.53 ms ± 168 µs per loop (mean ± std. dev. of 7 runs, 100 loops each)\n",
            "138 µs ± 62 µs per loop (mean ± std. dev. of 7 runs, 1,000 loops each)\n"
          ]
        }
      ],
      "source": [
        "## Insert your code here\n",
        "mat = np.arange(0, 9)\n",
        "mat = np.reshape(mat, newshape=(3, 3))\n",
        "print(mat)\n",
        "\n",
        "identity = np.identity(3)\n",
        "print(identity)\n",
        "\n",
        "new_mat = np.copy(identity)\n",
        "new_mat[0, :] = 9\n",
        "print(new_mat)\n",
        "print(identity)\n",
        "\n",
        "print(np.random.normal(size=25).mean())\n",
        "\n",
        "mat = np.random.uniform(-9, 9, size=(5, 5))\n",
        "print(mat.sum())\n",
        "print(mat.sum(axis=0))\n",
        "print(mat.sum(axis=1))\n",
        "\n",
        "mat = np.random.uniform(0, 1, size=10)\n",
        "print(mat)\n",
        "mat[mat < 0.5] = -1\n",
        "print(mat)\n",
        "\n",
        "def pi_approximation(n_samples:int):\n",
        "    samples = np.random.uniform(-1, 1, size=(2, n_samples))\n",
        "    samples = samples ** 2\n",
        "    squarre_distance_to_center = samples.sum(axis=0)\n",
        "    is_in_unit_circle = squarre_distance_to_center <= 1\n",
        "    approx = is_in_unit_circle.mean() * 4\n",
        "    return approx\n",
        "\n",
        "print(pi_approximation(100))\n",
        "print(pi_approximation(1000))\n",
        "print(pi_approximation(10000))\n",
        "\n",
        "my_list = [k for k in range(100000)]\n",
        "%timeit sum(my_list) / len(my_list)\n",
        "my_array = np.arange(100000)\n",
        "%timeit np.mean(my_array)"
      ]
    },
    {
      "cell_type": "code",
      "execution_count": null,
      "metadata": {},
      "outputs": [],
      "source": []
    }
  ],
  "metadata": {
    "colab": {
      "provenance": []
    },
    "kernelspec": {
      "display_name": "Python 3",
      "name": "python3"
    },
    "language_info": {
      "codemirror_mode": {
        "name": "ipython",
        "version": 3
      },
      "file_extension": ".py",
      "mimetype": "text/x-python",
      "name": "python",
      "nbconvert_exporter": "python",
      "pygments_lexer": "ipython3",
      "version": "3.11.5"
    }
  },
  "nbformat": 4,
  "nbformat_minor": 0
}
