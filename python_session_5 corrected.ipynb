{
  "cells": [
    {
      "cell_type": "markdown",
      "metadata": {
        "id": "p1WzPxY0ZLwS"
      },
      "source": [
        "<img src=\"https://dauphine.psl.eu/fileadmin/_processed_/9/2/csm_damier_logo_Dauphine_f7b37a1ff2.jpg\" width=\"200\" style=\"vertical-align:middle\" /> <h1>Master 222: Introduction to Python - Session 5</h1>\n",
        "\n",
        "\n",
        "\n"
      ]
    },
    {
      "cell_type": "markdown",
      "metadata": {
        "id": "n1PHyLbh0m2v"
      },
      "source": [
        "[![Open In Colab](https://colab.research.google.com/assets/colab-badge.svg)](https://colab.research.google.com/github/Zaltarba/PSL_python_for_finance/blob/main/python_session_5_corrected.ipynb)\n"
      ]
    },
    {
      "cell_type": "markdown",
      "metadata": {
        "id": "7ZOC-JWDzRYC"
      },
      "source": [
        "# Introduction to yfinance\n",
        "\n",
        "### What is yfinance?\n",
        "\n",
        "`yfinance` stands for Yahoo Finance, and the `yfinance` library in Python allows you to access financial data from Yahoo! Finance. This can include stock prices, historical data, financial statements, and much more.\n",
        "\n",
        "### Why use `yfinance`?\n",
        "\n",
        "If you're interested in financial analysis, algorithmic trading, or just want to understand how the stock market behaves over time, `yfinance` is a great tool to start with. With just a few lines of Python code, you can retrieve vast amounts of financial data.\n",
        "\n",
        "### Getting Started\n",
        "\n",
        "Start by importing the library:\n",
        "```\n",
        "import yfinance as yf\n",
        "```\n",
        "Fetching Data:\n",
        "\n",
        "You can fetch data for a specific stock or index. Here's how to get the historical data for Apple Inc. (AAPL) for the past month:\n",
        "```\n",
        "data = yf.download(\"AAPL\", period=\"1mo\")\n",
        "print(data)\n",
        "```\n",
        "\n",
        "- Fetch the data for AAPL\n",
        "- Using matplotlib.pyplot, plot the closing prices\n",
        "\n"
      ]
    },
    {
      "cell_type": "code",
      "execution_count": 1,
      "metadata": {
        "id": "S5UhzfJEz4Ya"
      },
      "outputs": [],
      "source": [
        "## Insert your code here\n",
        "import yfinance as yf\n",
        "import pandas as pd\n",
        "import numpy as np\n",
        "import matplotlib.pyplot as plt"
      ]
    },
    {
      "cell_type": "code",
      "execution_count": 2,
      "metadata": {
        "id": "MLiZtV3OQEQb",
        "outputId": "61ccc37e-ade4-4cbd-d598-26eda0eb4fed",
        "colab": {
          "base_uri": "https://localhost:8080/",
          "height": 499
        }
      },
      "outputs": [
        {
          "output_type": "stream",
          "name": "stderr",
          "text": [
            "/tmp/ipython-input-1796214432.py:2: FutureWarning: YF.download() has changed argument auto_adjust default to True\n",
            "  data = yf.download(\"AAPL\", period = \"1mo\")\n",
            "[*********************100%***********************]  1 of 1 completed\n"
          ]
        },
        {
          "output_type": "execute_result",
          "data": {
            "text/plain": [
              "[<matplotlib.lines.Line2D at 0x7abc65f2ede0>]"
            ]
          },
          "metadata": {},
          "execution_count": 2
        },
        {
          "output_type": "display_data",
          "data": {
            "text/plain": [
              "<Figure size 640x480 with 1 Axes>"
            ],
            "image/png": "[encoded data removed]"
          },
          "metadata": {}
        }
      ],
      "source": [
        "ticker = yf.Ticker(\"AAPL\")  # If you have issues with yf.dowload use yf.Ticker\n",
        "data = yf.download(\"AAPL\", period = \"1mo\")\n",
        "plt.plot(data['Close'])"
      ]
    },
    {
      "cell_type": "markdown",
      "metadata": {
        "id": "MVHsa6z60TeQ"
      },
      "source": [
        "**Exercise: Analyzing Historical Stock Prices**\n",
        "> Context:\n",
        "You are a financial analyst at an investment firm. You have been given a dataset containing historical stock prices of several companies over the past decade. Your task is to clean, analyze, and visualize the data to help the firm make informed investment decisions.\n",
        "\n",
        "> Dataset:\n",
        "The dataset contains the following columns: 'Date', 'Ticker', 'Open', 'High', 'Low', 'Close', 'Volume'.\n",
        "\n",
        "\n",
        "**Data Loading and Inspection**:\n",
        "\n",
        "- Fetch the historical stock price data for 'AAPL'.\n",
        "- Display the first 10 rows of the dataset.\n",
        "- Check for any missing values in the dataset.\n",
        "\n",
        "**Data Cleaning**:\n",
        "\n",
        "- Handle any missing values: You can either fill them using methods such as forward fill, backward fill, or interpolation, or you can choose to drop rows with missing values.\n",
        "- Convert the 'Date' column to a datetime format if it isn't already..\n",
        "\n",
        "**Data Transformation**:\n",
        "\n",
        "- Make the 'Date' column the index of the DataFrame to facilitate time series analysis.\n",
        "- Compute a new column 'Price_Average', which is the arithmetic mean of the 'High' and 'Low' prices for each trading day.\n",
        "\n",
        "**Data Analysis**:\n",
        "\n",
        "- Determine the specific date when the trading volume for Apple Inc. was at its peak.\n",
        "- Compute the monthly average of the 'Close' price to understand monthly performance trends.\n",
        "\n",
        "**Data Aggregation**:\n",
        "\n",
        "- Calculate the total trading volume and average closing price for each company over the period.\n",
        "\n",
        "**File I/O**:\n",
        "\n",
        "- Save the cleaned and transformed dataset to a new CSV file.\n",
        "- Save the plots as image files.\n",
        "\n",
        "**Bonus**:\n",
        "\n",
        "- Use a simple linear regression model to attempt predictions of future stock prices based on historical data. This will provide a rudimentary forecast which can be enhanced with more complex models.\n",
        "- Implement a basic moving average trading strategy. For instance, consider using a 50-day and a 200-day moving average. Generate buy signals when the 50-day moving average crosses above the 200-day moving average, and sell signals when it crosses below. Backtest this strategy to gauge its historical performance."
      ]
    },
    {
      "cell_type": "code",
      "execution_count": 3,
      "metadata": {
        "id": "2EZ9Mmwr8Onf",
        "outputId": "36f1a87b-fa60-4454-eb65-b0ca502d0db4",
        "colab": {
          "base_uri": "https://localhost:8080/"
        }
      },
      "outputs": [
        {
          "output_type": "stream",
          "name": "stderr",
          "text": [
            "/tmp/ipython-input-1350874616.py:2: FutureWarning: YF.download() has changed argument auto_adjust default to True\n",
            "  aapl = yf.download('AAPL', start='2010-01-01', end='2020-12-31')\n",
            "[*********************100%***********************]  1 of 1 completed"
          ]
        },
        {
          "output_type": "stream",
          "name": "stdout",
          "text": [
            "Price          Close      High       Low      Open     Volume\n",
            "Ticker          AAPL      AAPL      AAPL      AAPL       AAPL\n",
            "Date                                                         \n",
            "2010-01-04  6.424607  6.439317  6.375674  6.407195  493729600\n",
            "2010-01-05  6.435711  6.472036  6.401788  6.442316  601904800\n",
            "2010-01-06  6.333345  6.461231  6.326740  6.435713  552160000\n",
            "2010-01-07  6.321635  6.364264  6.275705  6.356759  477131200\n",
            "2010-01-08  6.363664  6.364265  6.276006  6.313230  447610800\n",
            "2010-01-11  6.307526  6.394284  6.257692  6.388280  462229600\n",
            "2010-01-12  6.235778  6.297320  6.196752  6.279907  594459600\n",
            "2010-01-13  6.323739  6.332144  6.127107  6.240284  605892000\n",
            "2010-01-14  6.287113  6.318034  6.274805  6.307527  432894000\n",
            "2010-01-15  6.182043  6.352257  6.180242  6.332143  594067600\n",
            "Price   Ticker\n",
            "Close   AAPL      0\n",
            "High    AAPL      0\n",
            "Low     AAPL      0\n",
            "Open    AAPL      0\n",
            "Volume  AAPL      0\n",
            "dtype: int64\n"
          ]
        },
        {
          "output_type": "stream",
          "name": "stderr",
          "text": [
            "\n"
          ]
        }
      ],
      "source": [
        "# Fetch the data for AAPL\n",
        "aapl = yf.download('AAPL', start='2010-01-01', end='2020-12-31')\n",
        "# Display the first 10 rows\n",
        "print(aapl.head(10))\n",
        "# Check for missing values\n",
        "print(aapl.isna().sum())"
      ]
    },
    {
      "cell_type": "code",
      "execution_count": 4,
      "metadata": {
        "id": "igdrXvSyQEQc",
        "outputId": "5b1532ff-cccf-4cc3-9b1e-f3ad45cbdd8a",
        "colab": {
          "base_uri": "https://localhost:8080/"
        }
      },
      "outputs": [
        {
          "output_type": "stream",
          "name": "stdout",
          "text": [
            "datetime64[ns]\n"
          ]
        }
      ],
      "source": [
        "aapl = aapl.ffill()\n",
        "# Ensure Date is already in datetime format (as the index in this case)\n",
        "print(aapl.index.dtype)"
      ]
    },
    {
      "cell_type": "code",
      "execution_count": 5,
      "metadata": {
        "id": "R65tfURkQEQc"
      },
      "outputs": [],
      "source": [
        "aapl['Price_Average'] = (aapl['High'] + aapl['Low']) / 2"
      ]
    },
    {
      "cell_type": "code",
      "execution_count": 6,
      "metadata": {
        "id": "VFgQGda3QEQc",
        "outputId": "48b0ae3f-c2f0-42e4-d1b8-16b9dfec9b29",
        "colab": {
          "base_uri": "https://localhost:8080/"
        }
      },
      "outputs": [
        {
          "output_type": "stream",
          "name": "stdout",
          "text": [
            "Date with highest trading volume: Ticker\n",
            "AAPL   2011-01-18\n",
            "dtype: datetime64[ns]\n",
            "Ticker            AAPL\n",
            "Date                  \n",
            "2010-01-31    6.235637\n",
            "2010-02-28    5.967873\n",
            "2010-03-31    6.706820\n",
            "2010-04-30    7.539510\n",
            "2010-05-31    7.548903\n",
            "...                ...\n",
            "2020-08-31  114.062674\n",
            "2020-09-30  111.984366\n",
            "2020-10-31  113.237169\n",
            "2020-11-30  113.796756\n",
            "2020-12-31  123.780761\n",
            "\n",
            "[132 rows x 1 columns]\n"
          ]
        },
        {
          "output_type": "stream",
          "name": "stderr",
          "text": [
            "/tmp/ipython-input-4075825725.py:6: FutureWarning: 'M' is deprecated and will be removed in a future version, please use 'ME' instead.\n",
            "  monthly_avg_close = aapl['Close'].resample('M').mean()\n"
          ]
        }
      ],
      "source": [
        "# Date with highest trading volume\n",
        "date_max_volume = aapl['Volume'].idxmax()\n",
        "print(f\"Date with highest trading volume: {date_max_volume}\")\n",
        "\n",
        "# Monthly average closing price\n",
        "monthly_avg_close = aapl['Close'].resample('M').mean()\n",
        "print(monthly_avg_close)"
      ]
    },
    {
      "cell_type": "code",
      "execution_count": 7,
      "metadata": {
        "id": "4lAZxmDgQEQc",
        "outputId": "e0270cc7-540f-4047-9b05-ea8eac0d655b",
        "colab": {
          "base_uri": "https://localhost:8080/"
        }
      },
      "outputs": [
        {
          "output_type": "stream",
          "name": "stdout",
          "text": [
            "Total trading volume for the period: 793541036600\n",
            "Average closing price for the period: 31.26\n"
          ]
        }
      ],
      "source": [
        "total_volume = aapl['Volume'].sum().iloc[0]\n",
        "avg_close_price = aapl['Close'].mean().iloc[0]\n",
        "print(f\"Total trading volume for the period: {total_volume}\")\n",
        "print(f\"Average closing price for the period: {avg_close_price:.2f}\")"
      ]
    },
    {
      "cell_type": "markdown",
      "metadata": {
        "id": "sGiyABYwxY5L"
      },
      "source": [
        "**Exercice TO DO: Momentum Strategy on 50 Stocks**\n",
        "\n",
        "## Objective\n",
        "Explore the performance of a simple momentum strategy on a subset of 50 stocks.\n",
        "\n",
        "## Procedure\n",
        "\n",
        "### 1. Stock Selection\n",
        "- Use `pandas` to fetch the list of all tickers from [this link](https://en.wikipedia.org/wiki/List_of_S%26P_500_companies)\n",
        "    - Use the hint\n",
        "- Randomly select 50 stocks from this list.\n",
        "\n",
        "### 2. Data Collection\n",
        "- For each stock, download the daily adjusted closing prices for the last 365 days.\n",
        "- Store this data in a pandas DataFrame with dates as the index.\n",
        "\n",
        "### 3. Momentum Calculation\n",
        "- Define momentum as the percentage change in the stock price over the previous n days (e.g., n=21 for a month).\n",
        "- Using pandas, compute the momentum for each stock for each day.\n",
        "- Rank the stocks based on their momentum every day.\n",
        "\n",
        "### 4. Strategy\n",
        "\n",
        "1. At the beginning of each month, buy the top 10 stocks based on momentum from the previous month.\n",
        "2. At the end of the month, sell all the stocks.\n",
        "3. Repeat this process for each month in your dataset.\n",
        "\n",
        "### 5. Performance Analysis\n",
        "\n",
        "- Calculate the monthly and annualized return of this strategy.\n",
        "- Compare the strategy's performance against a benchmark (e.g., S&P 500).\n",
        "- Plot the cumulative returns of your strategy and the benchmark.\n",
        "\n",
        "### 6. Risk Analysis\n",
        "- Using numpy, compute the standard deviation of the monthly returns to get a measure of the strategy's risk.\n",
        "- Calculate the Sharpe Ratio.\n",
        "\n",
        "## Hints\n",
        "\n",
        "- To get the tickers list:\n",
        "```python\n",
        "import requests\n",
        "\n",
        "# URL of the Wikipedia page\n",
        "url = \"https://en.wikipedia.org/wiki/List_of_S%26P_500_companies\"\n",
        "\n",
        "# Set headers to mimic a browser\n",
        "headers = {\n",
        "    \"User-Agent\": \"Mozilla/5.0\"\n",
        "}\n",
        "\n",
        "# Send the HTTP request with custom headers\n",
        "response = requests.get(url, headers=headers)\n",
        "\n",
        "# Use pandas to read the HTML from the response content\n",
        "tables = pd.read_html(response.text)\n",
        "```"
      ]
    },
    {
      "cell_type": "code",
      "execution_count": 8,
      "metadata": {
        "id": "jUBK1J7myTzJ",
        "outputId": "12d218bb-f78e-4d85-897a-8e28f4786dc0",
        "colab": {
          "base_uri": "https://localhost:8080/"
        }
      },
      "outputs": [
        {
          "output_type": "stream",
          "name": "stderr",
          "text": [
            "/tmp/ipython-input-2012027942.py:16: FutureWarning: Passing literal html to 'read_html' is deprecated and will be removed in a future version. To read from a literal string, wrap it in a 'StringIO' object.\n",
            "  tables = pd.read_html(response.text)\n"
          ]
        }
      ],
      "source": [
        "import pandas as pd\n",
        "import requests\n",
        "\n",
        "# URL of the Wikipedia page\n",
        "url = \"https://en.wikipedia.org/wiki/List_of_S%26P_500_companies\"\n",
        "\n",
        "# Set headers to mimic a browser\n",
        "headers = {\n",
        "    \"User-Agent\": \"Mozilla/5.0\"\n",
        "}\n",
        "\n",
        "# Send the HTTP request with custom headers\n",
        "response = requests.get(url, headers=headers)\n",
        "\n",
        "# Use pandas to read the HTML from the response content\n",
        "tables = pd.read_html(response.text)\n",
        "\n",
        "# The first table contains the S&P 500 tickers\n",
        "sp500_table = tables[0]\n",
        "\n",
        "# Extract ticker symbols\n",
        "tickers = sp500_table['Symbol'].tolist()\n",
        "tickers = [ticker.replace('.', '-') for ticker in tickers]  # Adjust for Yahoo Finance format"
      ]
    },
    {
      "cell_type": "code",
      "execution_count": 9,
      "metadata": {
        "id": "M4Mo8Ys9QEQd",
        "outputId": "5fe835b8-9f3e-45b9-aadb-b3e7d224847e",
        "colab": {
          "base_uri": "https://localhost:8080/"
        }
      },
      "outputs": [
        {
          "output_type": "stream",
          "name": "stderr",
          "text": [
            "[*********************100%***********************]  50 of 50 completed\n"
          ]
        }
      ],
      "source": [
        "# Step 2: Randomly select 50 stocks\n",
        "selected_tickers = np.random.choice(tickers, 50, replace=False)\n",
        "selected_tickers = list(selected_tickers)\n",
        "# Step 3: Download adjusted close prices for the last 370 days\n",
        "data = yf.download(selected_tickers, period=\"370d\", interval=\"1d\", auto_adjust=True)['Close']"
      ]
    },
    {
      "cell_type": "code",
      "execution_count": 10,
      "metadata": {
        "id": "BIfGg-xoQEQd",
        "outputId": "1f233d94-20a4-4885-a9eb-723007cf25e7",
        "colab": {
          "base_uri": "https://localhost:8080/",
          "height": 643
        }
      },
      "outputs": [
        {
          "output_type": "stream",
          "name": "stderr",
          "text": [
            "[*********************100%***********************]  50 of 50 completed\n"
          ]
        },
        {
          "output_type": "display_data",
          "data": {
            "text/plain": [
              "<Figure size 1200x600 with 1 Axes>"
            ],
            "image/png": "[encoded data removed]"
          },
          "metadata": {}
        },
        {
          "output_type": "stream",
          "name": "stdout",
          "text": [
            "Annualized Return: 12.96%\n",
            "Standard Deviation: 4.23%\n",
            "Sharpe Ratio: 3.07\n"
          ]
        }
      ],
      "source": [
        "# Step 3: Download adjusted close prices for the last 370 days\n",
        "data = yf.download(selected_tickers, period=\"370d\", interval=\"1d\", auto_adjust=True)\n",
        "data = data['Close']\n",
        "# Step 4: Calculate momentum (21-day return)\n",
        "momentum = data.pct_change(periods=21)\n",
        "# Step 5: Rank stocks by momentum\n",
        "ranks = momentum.rank(axis=1, ascending=False)\n",
        "# Step 6: Momentum Strategy Logic\n",
        "monthly_returns = []\n",
        "dates = data.copy()\n",
        "\n",
        "for i in range(22, len(dates)-21):\n",
        "    end_trade_date = dates.iloc[i+21].name\n",
        "    start_trade_date = dates.iloc[i].name\n",
        "    available_momentum = momentum.iloc[i-1]\n",
        "    top_10 = available_momentum.nlargest(10).index\n",
        "    buy_prices = data.loc[start_trade_date, top_10]\n",
        "    sell_prices = data.loc[end_trade_date, top_10]\n",
        "    returns = (sell_prices / buy_prices) - 1\n",
        "    monthly_return = returns.mean()\n",
        "    monthly_returns.append(monthly_return)\n",
        "\n",
        "# Step 7: Create return DataFrame\n",
        "returns_df = pd.DataFrame(monthly_returns, columns=['Strategy'])\n",
        "\n",
        "# Step 8: Performance Metrics\n",
        "cumulative_strategy = (1 + returns_df['Strategy']).cumprod()\n",
        "annualized_return = ((1 + returns_df['Strategy'].mean()) ** 12) - 1\n",
        "std_dev = np.std(returns_df['Strategy'])\n",
        "sharpe_ratio = annualized_return / std_dev\n",
        "\n",
        "# Step 9: Plot results\n",
        "plt.figure(figsize=(12, 6))\n",
        "plt.plot(cumulative_strategy, label='Momentum Strategy')\n",
        "plt.title(\"Cumulative Returns\")\n",
        "plt.xlabel(\"Time\")\n",
        "plt.ylabel(\"Growth of $1\")\n",
        "plt.legend()\n",
        "plt.grid(True)\n",
        "plt.tight_layout()\n",
        "plt.show()\n",
        "\n",
        "# Step 10: Print metrics\n",
        "print(f\"Annualized Return: {annualized_return:.2%}\")\n",
        "print(f\"Standard Deviation: {std_dev:.2%}\")\n",
        "print(f\"Sharpe Ratio: {sharpe_ratio:.2f}\")"
      ]
    },
    {
      "cell_type": "code",
      "execution_count": 10,
      "metadata": {
        "id": "hKi5uPn4QEQd"
      },
      "outputs": [],
      "source": []
    }
  ],
  "metadata": {
    "colab": {
      "provenance": []
    },
    "kernelspec": {
      "display_name": "Python 3",
      "name": "python3"
    },
    "language_info": {
      "codemirror_mode": {
        "name": "ipython",
        "version": 3
      },
      "file_extension": ".py",
      "mimetype": "text/x-python",
      "name": "python",
      "nbconvert_exporter": "python",
      "pygments_lexer": "ipython3",
      "version": "3.11.5"
    }
  },
  "nbformat": 4,
  "nbformat_minor": 0
}