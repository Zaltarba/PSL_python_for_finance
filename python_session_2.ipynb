{
  "cells": [
    {
      "cell_type": "markdown",
      "metadata": {
        "id": "9UOkwPFBZUaR"
      },
      "source": [
        "<img src=\"https://dauphine.psl.eu/fileadmin/_processed_/9/2/csm_damier_logo_Dauphine_f7b37a1ff2.jpg\" width=\"200\" style=\"vertical-align:middle\" /> <h1>Master 222: Introduction to Python - Session 2</h1>"
      ]
    },
    {
      "cell_type": "markdown",
      "metadata": {
        "id": "Uc_gjE9_jgBg"
      },
      "source": [
        "[![Open In Colab](https://colab.research.google.com/assets/colab-badge.svg)](https://colab.research.google.com/github/Zaltarba/PSL_python_for_finance/blob/main/python_session_2.ipynb)\n"
      ]
    },
    {
      "cell_type": "markdown",
      "metadata": {
        "id": "R5QIyWQ8QtZ1"
      },
      "source": [
        "# Remainders From Last Session\n",
        "\n",
        "## Temperature Data Analysis\n",
        "\n",
        "**Introduction**\n",
        "You're provided with a list of temperatures (in degrees Celsius) spanning over a week:\n",
        "``` python\n",
        "temperatures = [20.5, 22.3, 19.8, 21.6, 23.2, 18.9, 20.2]\n",
        "```\n",
        "Your task is to analyze this data by developing specific functions and then interpreting the results.\n",
        "\n",
        "**Functions to Develop**\n",
        "\n",
        "1.   Function `average_temp()`:\n",
        "\n",
        "*Input:* A list of temperatures.\n",
        "\n",
        "*Task:* Calculate the average temperature for the week.\n",
        "\n",
        "*Return:* The average temperature.\n",
        "\n",
        "2. Function `hot_days_count()`:\n",
        "\n",
        "*Input:* A list of temperatures.\n",
        "\n",
        "*Task:* Determine the number of days the temperature was above 21°C.\n",
        "\n",
        "*Return:* The count of days.\n",
        "\n",
        "3. Function `coldest_day()`:\n",
        "\n",
        "*Input:* A list of temperatures.\n",
        "\n",
        "*Task:* Identify the index of the coldest day (0 for Monday, 6 for Sunday).\n",
        "\n",
        "*Return:* The index of the day.\n",
        "\n",
        "**Display the Results**\n",
        "\n",
        "After you've developed and tested your functions, you should:\n",
        "\n",
        "- Print the average temperature of the week.\n",
        "- Print the number of days when the temperature was above 21°C.\n",
        "- Print the coldest day of the week based on the index (e.g., \"The coldest day was Wednesday...\").\n",
        "\n",
        "**Sample output**\n",
        "``` python\n",
        "The average temperature for the week is: 20.79°C.\n",
        "There were 3 days with a temperature above 21°C.\n",
        "The coldest day was Wednesday with a temperature of 18.9°C.\n",
        "```\n",
        " \n",
        "Try using a list by comprehension for question 1 and 2.  \n",
        "Use a dictionary for the question 3 to map indices to days of the week."
      ]
    },
    {
      "cell_type": "code",
      "execution_count": null,
      "metadata": {
        "id": "JAip9uRER_Q3"
      },
      "outputs": [],
      "source": [
        "temperatures = [20.5, 22.3, 19.8, 21.6, 23.2, 18.9, 20.2]\n",
        "## Insert your code here"
      ]
    },
    {
      "cell_type": "markdown",
      "metadata": {
        "id": "wAriYIftuAcc"
      },
      "source": [
        "# The NumPy library\n",
        "\n",
        "## Context and Objective\n",
        "\n",
        "Python is an almost indispensable programming language in the world of Quantitative finance.   \n",
        "It's open source, and increasingly popular.  \n",
        "In this exercise, you will learn to use the NumPy module.  \n",
        "NumPy is a Python package specialized in the manipulation of arrays.  \n",
        "This exercise will only focus on one-dimensional arrays (vectors) and two-dimensional arrays (matrices).\n",
        "\n",
        "[For more information on NumPy](http://www.numpy.org/)\n",
        "\n",
        "## Prerequisite Skills\n",
        "\n",
        "- Basic programming concepts\n",
        "- Lists\n",
        "- Basic linear algebra concepts\n",
        "\n",
        "## Exercice 1 \n",
        "\n",
        "The exercise is composed of several questions.   \n",
        "To begin, execute the following preamble cell:\n"
      ]
    },
    {
      "cell_type": "code",
      "execution_count": null,
      "metadata": {
        "id": "FhkVIupot_Ms"
      },
      "outputs": [],
      "source": [
        "import numpy as np"
      ]
    },
    {
      "cell_type": "markdown",
      "metadata": {
        "id": "cCWtCwZRuaH-"
      },
      "source": [
        "In Python, an array is an ordered collection of values, which can be of any type, not **only numbers**.\n",
        "\n",
        "The `array()` method allows you to define a **one-dimensional array** from a list. Given `X` as a list of values, you can use the command `np.array(X)` to transform the list into a one-dimensional array.\n",
        "\n",
        "1. Create an array from the list `[1,1,1,1]`"
      ]
    },
    {
      "cell_type": "code",
      "execution_count": null,
      "metadata": {
        "id": "5HvkPTe2uIz0"
      },
      "outputs": [],
      "source": [
        "## Insert your code here\n"
      ]
    },
    {
      "cell_type": "markdown",
      "metadata": {
        "id": "oI0_wcMeucbH"
      },
      "source": [
        "There are commands to inquire about the variables we are manipulating. Here's a table summarizing these commands:\n",
        "\n",
        "| Command    | Effect                                         | Example                     |\n",
        "|------------|------------------------------------------------|-----------------------------|\n",
        "| type(X)    | Returns the type of the variable X            | type(2) returns `<class 'int'>`      |\n",
        "| np.shape(X)| Returns the dimension of the variable X       | np.shape([1,2]) returns (2,) |\n",
        "\n",
        "By default, Numpy creates one-dimensional arrays from lists. If you want a different dimension, you should specify it using the command `np.reshape(X, new_shape)` where `X` is the array whose dimensions you want to change.\n",
        "\n",
        "2. Create a variable *a* and assign to it an array with the list [1,2,3,4,5]\n",
        "3. Verify that its dimension is indeed (5,)"
      ]
    },
    {
      "cell_type": "code",
      "execution_count": null,
      "metadata": {
        "id": "e9tap3Ocupx3"
      },
      "outputs": [],
      "source": [
        "## Insert your code here\n"
      ]
    },
    {
      "cell_type": "markdown",
      "metadata": {
        "id": "8mLHt8rMuqdB"
      },
      "source": [
        "Now that we've seen how to get information about arrays, we'd like to create some. There are various commands to generate one-dimensional arrays. Here's a table summarizing them:\n",
        "\n",
        "| Command               | Meaning                                                        | Example                                    |\n",
        "|-----------------------|----------------------------------------------------------------|--------------------------------------------|\n",
        "| np.ones(n)            | Returns an array of dimension (n,) of 1s                        | np.ones(5) returns array([1, 1, 1, 1, 1])  |\n",
        "| np.zeros(n)           | Returns an array of dimension (n,) of 0s                        | np.zeros(5) returns array([0, 0, 0, 0, 0]) |\n",
        "| np.arange(n)          | Returns an array of dim(n,) of ordered numbers from 0 to n-1    | np.arange(5) returns array([0, 1, 2, 3, 4])|\n",
        "| np.linspace(a,b,n)    | Returns an array of dim(n,) of n numbers evenly spaced between a and b | np.linspace(0,5,5) returns array([0, 1.25, 2.5, 3.75, 5.0])|\n",
        "| np.linspace(a,b)      | Returns an array of dim(50,) of 50 numbers evenly spaced between a and b |                                            |\n",
        "| np.concatenate((X,Y)) | Returns an array of dim(dimX+dimY,) resulting from the assembly of X and Y | np.concatenate((array([1]),array([0]))) returns array([1,0])|\n",
        "\n",
        "4. Create 4 variables a, b, c, d\n",
        "    - Assign to a an array with 5 zeros\n",
        "    - Assign to b an array with 5 ones\n",
        "    - Assign to c an array of size 10 containing 5 zeros followed by 5 ones, arranged judiciously.\n",
        "    - Assign to c an array of the integers from 10 to 50.\n",
        "\n"
      ]
    },
    {
      "cell_type": "code",
      "execution_count": null,
      "metadata": {
        "id": "LKjtoLTSvDN8"
      },
      "outputs": [],
      "source": [
        "## Insert your code here\n"
      ]
    },
    {
      "cell_type": "markdown",
      "metadata": {
        "id": "5ph-wtdfvP4W"
      },
      "source": [
        "5. Generate two arrays of ordered numbers from 0 to 10 (thus of size 11) using different commands."
      ]
    },
    {
      "cell_type": "code",
      "execution_count": null,
      "metadata": {
        "id": "0xZnIuCFvQLx"
      },
      "outputs": [],
      "source": [
        "## Insert your code here\n"
      ]
    },
    {
      "cell_type": "markdown",
      "metadata": {
        "id": "lK7yW4_XvRpX"
      },
      "source": [
        "6. Create a list `c` with numbers ranging from 0 to 10 **A list, not an array**. \n",
        "    - Use the following syntax: `list(range())`.\n",
        "    - Add 5 to all the terms in `c` \n",
        "        - without the numpy library.\n",
        "        - with the numpy library.\n",
        "    - Display `c`.\n"
      ]
    },
    {
      "cell_type": "code",
      "execution_count": null,
      "metadata": {
        "id": "DaOh7T6cvcSl"
      },
      "outputs": [],
      "source": [
        "## Insert your code here\n"
      ]
    },
    {
      "cell_type": "markdown",
      "metadata": {
        "id": "ykfObg7bvdHc"
      },
      "source": [
        "We can perform similar operations with matrices, which are 2-dimensional arrays.\n",
        "\n",
        "Thus, `np.ones((n, p))` returns an `NxP` matrix filled with ones, `np.zeros((n, p))` returns an `NxP` matrix filled with zeros.\n",
        "\n",
        "`np.diag(v)` returns a matrix whose diagonal consists of the vector v. \n",
        "Moreover, `np.diag(v, k)` returns a matrix where the k-th diagonal consists of the vector v, k can be positive or negative; if k is positive, the shift is to the \"right,\" otherwise to the left.\n",
        "\n",
        "7. Create a matrix *mat* of size 5x5 with 1s on the diagonal."
      ]
    },
    {
      "cell_type": "code",
      "execution_count": null,
      "metadata": {
        "id": "3c0YqbgbvwcP"
      },
      "outputs": [],
      "source": [
        "## Insert your code here\n"
      ]
    },
    {
      "cell_type": "markdown",
      "metadata": {
        "id": "SD0F7LOSv5GH"
      },
      "source": [
        "We can use mathematical operators **+**, **-**, on arrays provided that the mathematical operation makes sense.\n",
        "\n",
        "**Caution: If you use the operators '\\*' or '/' you will only perform a term-by-term operation**  \n",
        "\n",
        "8. Create a 6x6 matrix with 1s on the diagonal and on the sub-diagonal using a mathematical operator."
      ]
    },
    {
      "cell_type": "code",
      "execution_count": null,
      "metadata": {
        "id": "f3sQ2gCev5bB"
      },
      "outputs": [],
      "source": [
        "## Insert your code here\n"
      ]
    },
    {
      "cell_type": "markdown",
      "metadata": {
        "id": "uZa1ER-mwIFN"
      },
      "source": [
        "Accessing specific elements of an array is done similarly to lists. If the array is two-dimensional, two parameters are needed.\n",
        "\n",
        "*For example*: let X be a two-dimensional array, `X[0, 0]` returns the element located at row 1, column 1. `X[:, 0]` returns the first column. `X[0:3, 0]` returns the first three rows of the first column. This method is referred to as *slicing* in programming.\n",
        "\n",
        "9. Create this matrix using `np.ones()`, `np.diag()` and slicing:\n",
        "$$\n",
        "\\begin{pmatrix}\n",
        "5 & 0 & 0 & 0 \\\\\n",
        "5 & 1 & 0 & 0 \\\\\n",
        "4 & 4 & 4 & 4 \\\\\n",
        "5 & 0 & 0 & 1\n",
        "\\end{pmatrix}\n",
        "$$"
      ]
    },
    {
      "cell_type": "code",
      "execution_count": null,
      "metadata": {
        "id": "ax8kpF2uwIcL"
      },
      "outputs": [],
      "source": [
        "## Insert your code here\n"
      ]
    },
    {
      "cell_type": "markdown",
      "metadata": {},
      "source": [
        "10. Create a numpy array with only ones of shape N, T\n",
        "11. Using slicing access create :\n",
        "    - a matrix_a array with all N and T from 0 to 5\n",
        "    - a matrix_b array with all N and T from T-5 to T-1"
      ]
    },
    {
      "cell_type": "code",
      "execution_count": null,
      "metadata": {},
      "outputs": [],
      "source": [
        "## Insert your code here\n"
      ]
    },
    {
      "cell_type": "markdown",
      "metadata": {
        "id": "plIvwEMSwX5f"
      },
      "source": [
        "## Exercice 2\n",
        "\n",
        "With the Numpy module, you can create random numbers uniformly distributed between 0 and 1.   \n",
        "The syntax is as follows: `np.random.rand()` to return a single draw, `np.random.rand(n)` to return a row array of n draws, and `np.random.rand(n, p)` to return an NxP matrix of uniformly distributed random draws.\n",
        "\n",
        "1. Display a random number uniformly distributed between 0 and 1"
      ]
    },
    {
      "cell_type": "code",
      "execution_count": null,
      "metadata": {
        "id": "y5GdVrK4wYRK"
      },
      "outputs": [],
      "source": [
        "## Insert your code here\n"
      ]
    },
    {
      "cell_type": "markdown",
      "metadata": {
        "id": "VCOAFkRdwhc7"
      },
      "source": [
        "2. Display a 5x5 matrix of random numbers uniformly distributed between 0 and 1"
      ]
    },
    {
      "cell_type": "code",
      "execution_count": null,
      "metadata": {
        "id": "Xc4a4v_6wjMQ"
      },
      "outputs": [],
      "source": [
        "## Insert your code here\n"
      ]
    },
    {
      "cell_type": "markdown",
      "metadata": {
        "id": "a9QT6fSBwwO_"
      },
      "source": [
        "3. Write a function `random_number()` that takes two integer parameters and returns a random number uniformly distributed between the two integers.\n",
        "4. Call the function `random_number(10, 15)`\n",
        "\n",
        "*Note: If $X \\sim U[0,1]$, then $Y := (b-a)X + a \\sim U[a,b]$*\n",
        "\n",
        "5. Use the function np.rando.uniform to generate a similar variable "
      ]
    },
    {
      "cell_type": "code",
      "execution_count": null,
      "metadata": {
        "id": "rh8NDNuVww7T"
      },
      "outputs": [],
      "source": [
        "## Insert your code here\n"
      ]
    },
    {
      "cell_type": "markdown",
      "metadata": {
        "id": "rlN_d71TxBUk"
      },
      "source": [
        "6. Write a function `random_matrix()` that takes an integer parameter N and returns a NxN matrix with 1s everywhere except on the diagonal where there are numbers uniformly distributed between 0 and 1.\n",
        "7. Test for N=3 and N=5\n",
        "\n",
        "> Example: `random_matrix(3)` should return a matrix similar to\n",
        "$$\n",
        "\\begin{pmatrix}\n",
        "0.62678954 & 1 & 1 \\\\\n",
        "1 & 0.94077299 & 1 \\\\\n",
        "1 & 1 & 0.29263003 \\\\\n",
        "\\end{pmatrix}\n",
        "$$"
      ]
    },
    {
      "cell_type": "code",
      "execution_count": null,
      "metadata": {
        "id": "MrT8b64qxBnW"
      },
      "outputs": [],
      "source": [
        "## Insert your code here\n"
      ]
    },
    {
      "cell_type": "markdown",
      "metadata": {
        "id": "cO7U9vCJxVPm"
      },
      "source": [
        "- In NumPy, operations can be performed between arrays and scalars.\n",
        "> Example:\n",
        "```\n",
        "a = np.array([1, 2, 3])\n",
        "a * 4 returns array([4, 8, 12])\n",
        "a + 2 returns array([3, 4, 5])\n",
        "```\n",
        "\n",
        "8. Create a matrix mat_five of size 5x5 with fives on the diagonal\n",
        "9. Create two matrices mat_two and mat_two_bis of size 5x5 with twos everywhere, in two different ways\n",
        "    - Use a list by comprehension in one method\n",
        "10. Display the matrices"
      ]
    },
    {
      "cell_type": "code",
      "execution_count": null,
      "metadata": {
        "id": "grSn88lWxprc"
      },
      "outputs": [],
      "source": [
        "## Insert your code here\n"
      ]
    },
    {
      "cell_type": "markdown",
      "metadata": {
        "id": "DFBP4YlVxp4u"
      },
      "source": [
        "In NumPy, operations between arrays are performed element-wise by default.\n",
        "\n",
        "> Example:\n",
        "```\n",
        "a = np.array([1, 2, 3])\n",
        "b = np.array([4, 5, 6])\n",
        "a * b returns array([4, 10, 18])\n",
        "```\n",
        "\n",
        "To perform matrix multiplication in the mathematical sense, the following syntax is used: np.dot(X,Y)\n",
        "\n",
        "If the dimensions are incompatible, errors are triggered.\n",
        "\n",
        "## Exercice 3\n",
        "\n",
        "1. Create a matrix `mat_one` of size 5x5 with random numbers.\n",
        "2. Create a matrix `mat_two` of size 5x5 with ones everywhere.\n",
        "3. Create a matrix `mat_three` and assign to it the element-wise product between `mat_one` and `mat_two`\n",
        "4. Create a matrix mat_four and assign to it the matrix product between `mat_one` and `mat_two`\n",
        "5. Display `mat_three` and `mat_four`"
      ]
    },
    {
      "cell_type": "code",
      "execution_count": null,
      "metadata": {
        "id": "KVPRPiaNyEJf"
      },
      "outputs": [],
      "source": [
        "## Insert your code here\n"
      ]
    },
    {
      "cell_type": "markdown",
      "metadata": {
        "id": "IO3vv39XyEe1"
      },
      "source": [
        "\n",
        "6. Create a matrix `a` with dimensions 5x2 with arbitrary values\n",
        "7. Create another matrix `b` with dimensions 2x5 with arbitrary values\n",
        "8. Return the [Hadamard product](https://en.wikipedia.org/wiki/Hadamard_product_(matrices)) of the two matrices here\n",
        "\n"
      ]
    },
    {
      "cell_type": "code",
      "execution_count": null,
      "metadata": {
        "id": "LFlSHwHuyNXF"
      },
      "outputs": [],
      "source": [
        "## Insert your code here\n"
      ]
    },
    {
      "cell_type": "markdown",
      "metadata": {
        "id": "j7LF_8uryNof"
      },
      "source": [
        "## Exercice 4\n",
        "\n",
        "The use of logical operators is possible via NumPy.\n",
        "\n",
        "1. Create two matrices *mat_one* and *mat_two* of size 5x5 with random values.\n",
        "2. Using the operator `*` and the logical operator '`==`', return a 5x5 matrix of True.\n",
        "3. Using matrix multiplication and the logical operator '`==`', return a 5x5 matrix of False.\n"
      ]
    },
    {
      "cell_type": "code",
      "execution_count": null,
      "metadata": {
        "id": "dCDkfbx5yafK"
      },
      "outputs": [],
      "source": [
        "## Insert your code here\n"
      ]
    },
    {
      "cell_type": "markdown",
      "metadata": {
        "id": "n9L03pA6yawX"
      },
      "source": [
        "## Exercice 5\n",
        "\n",
        "It is possible to analyze data with NumPy. Here are some functions summarized:\n",
        "\n",
        "| Command   | Meaning                 |\n",
        "|-----------|-------------------------|\n",
        "| np.mean(X) | returns the mean of X   |\n",
        "| np.var(X)  | returns the variance of X|\n",
        "| np.std(X)  | returns the standard deviation of X |\n",
        "| X.sum()  | sums the elements of X   |\n",
        "| X.prod() | multiplies the elements of X |\n",
        "| X.min()  | returns the minimum of X |\n",
        "| X.max()  | returns the maximum of X |\n",
        "\n",
        "Furthermore, when working with matrices, it's possible to specify a second argument or a parameter to clarify where we are working. For example:\n",
        "\n",
        "```\n",
        "mat = np.random.rand(5, 5)\n",
        "np.mean(mat, axis = 0)  ## returns the mean of the rows\n",
        "np.mean(mat, axis = 1) ## returns the mean of the columns\n",
        "mat.sum(axis = 0) ## returns the sum of the rows\n",
        "```\n",
        "\n",
        "1. Verify that the mean of a uniformly distributed law on [0,1] is close to 0.5 for a large number of draws. \n",
        "\n",
        "**Note:**\n",
        "\n",
        "*As the number of draws increases, the mean value of the uniformly distributed random values should converge to 0.5 according to the Law of Large Numbers.*"
      ]
    },
    {
      "cell_type": "code",
      "execution_count": null,
      "metadata": {
        "id": "6-bGhu1qy4hT"
      },
      "outputs": [],
      "source": [
        "## Insert your code here\n"
      ]
    },
    {
      "cell_type": "markdown",
      "metadata": {
        "id": "aOl281MZy43-"
      },
      "source": [
        "2. Approximate $\\pi$ using the folowing equation, using only Numpy methods and a function\n",
        "$$\n",
        "\\frac{\\pi}2=\\prod_{n=1}^{\\infty}\\frac{4n^2}{4n^2-1}\n",
        "$$\n",
        "```python \n",
        "def pi_approximation(n)\n",
        "    ...\n",
        "    return approx\n",
        "``` \n",
        "\n",
        "3. Compare using `np.math.pi` for different values of n using \n",
        "\n",
        "```python \n",
        "from tqdm import tqdm \n",
        "for n in tqdm(range(1, 100, 10)):\n",
        "```"
      ]
    },
    {
      "cell_type": "code",
      "execution_count": null,
      "metadata": {
        "id": "U2CKFcRtzzOs"
      },
      "outputs": [],
      "source": [
        "## Insert your code here\n"
      ]
    },
    {
      "cell_type": "markdown",
      "metadata": {
        "id": "795txQ200QNb"
      },
      "source": [
        "## To go further..\n",
        "\n",
        "**Exercise :**\n",
        "- Create a 3x3 matrix with values ranging from 0 to 8 using `np.reshape`.\n",
        "- Create a 3x3 identity matrix with a built in numpy function.\n",
        "- Use indexing to replace the top row of the identity matrix with 9s. Make sure not to modify the initial matrix.\n",
        "\n",
        "**Exercise :**\n",
        "- Generate a random array of size 25, folowing a normal distribution. Find its mean.\n",
        "- Generate a random matrix of size 5x5. Find the sum of all the elements, the sum of the columns, and the sum of the rows.\n",
        "\n",
        "**Exercise :**\n",
        "- Create an array of 10 random numbers. Replace all the values less than 0.5 with 0.\n",
        "\n",
        "**Exercise :**\n",
        "- Using np.random.uniform estimate the value of pi.\n",
        "\n",
        "**Hint:** Use the probability of a random point $X = (x_1, x_2)$ with $X \\in [-1, 1]^2$ to belong to the unit circle.\n",
        "\n",
        "**Exercise :**\n",
        "\n",
        "This exercie aims to illustrate the difference in computation between Python `list` and `NumPy` arrays.\n",
        "\n",
        "1. Create a Python `my_list` of 100 000 integers using `range`.\n",
        "2. Create a Python `my_array` of 100 000 integers using `np.arange`.\n",
        "3. Compute the sum of all elements:\n",
        "   - Using the built-in `sum()` function on the Python list.\n",
        "   - Using the `np.sum()` function on the NumPy array.\n",
        "4. Compare the execution times of the two approaches.\n",
        "\n",
        "**Hint:** Use the `%timeit` magic command in a Jupyter notebook or the `time` module in Python to measure performance (only when computing the sum).\n",
        "\n",
        "``` python\n",
        "%timeit sum(py_list)\n",
        "```"
      ]
    },
    {
      "cell_type": "code",
      "execution_count": null,
      "metadata": {
        "id": "-myE0Qo5zzTE"
      },
      "outputs": [],
      "source": [
        "## Insert your code here\n"
      ]
    },
    {
      "cell_type": "code",
      "execution_count": null,
      "metadata": {},
      "outputs": [],
      "source": []
    }
  ],
  "metadata": {
    "colab": {
      "provenance": []
    },
    "kernelspec": {
      "display_name": "Python 3",
      "name": "python3"
    },
    "language_info": {
      "codemirror_mode": {
        "name": "ipython",
        "version": 3
      },
      "file_extension": ".py",
      "mimetype": "text/x-python",
      "name": "python",
      "nbconvert_exporter": "python",
      "pygments_lexer": "ipython3",
      "version": "3.11.5"
    }
  },
  "nbformat": 4,
  "nbformat_minor": 0
}
