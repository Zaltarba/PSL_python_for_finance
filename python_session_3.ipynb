{
  "cells": [
    {
      "cell_type": "markdown",
      "metadata": {
        "id": "9UOkwPFBZUaR"
      },
      "source": [
        "<img src=\"https://dauphine.psl.eu/fileadmin/_processed_/9/2/csm_damier_logo_Dauphine_f7b37a1ff2.jpg\" width=\"200\" style=\"vertical-align:middle\" /> <h1>Master 222: Introduction to Python - Session 3</h1>"
      ]
    },
    {
      "cell_type": "markdown",
      "metadata": {
        "id": "Uc_gjE9_jgBg"
      },
      "source": [
        "[![Open In Colab](https://colab.research.google.com/assets/colab-badge.svg)](https://colab.research.google.com/github/Zaltarba/PSL_python_for_finance/blob/main/python_session_3.ipynb)\n"
      ]
    },
    {
      "cell_type": "markdown",
      "metadata": {
        "id": "IsS6rFVOzzxT"
      },
      "source": [
        "# The Pandas library "
      ]
    },
    {
      "cell_type": "markdown",
      "metadata": {
        "id": "8Gegjmsz2u0D"
      },
      "source": [
        "In this exercise, you will learn to use the pandas module. Pandas is a Python package specialized in data manipulation.\n",
        "\n",
        "[For more information on pandas click here](http://pandas.pydata.org/)\n",
        "\n",
        "To begin, you need to import the `pandas` module under the abbreviated name `pd`. Therefore, execute this preamble cell. NumPy will also be used.\n",
        "\n"
      ]
    },
    {
      "cell_type": "code",
      "execution_count": null,
      "metadata": {
        "id": "IRfUcyiQ2vd-"
      },
      "outputs": [],
      "source": [
        "# Importing necessary libraries\n",
        "import pandas as pd\n",
        "import numpy as np"
      ]
    },
    {
      "cell_type": "markdown",
      "metadata": {
        "id": "zUAalo7kdFK-"
      },
      "source": [
        "## Exercice 1\n",
        "\n",
        "A Series is a one-dimensional array with labels, that can hold any data type. The labels are referred to as the index. Its syntax is as follows: pd.Series(X) where X is a list or an array.  \n",
        "\n",
        "1. Create a Series of 5 data points from a random list of numbers distributed between 0 and 1."
      ]
    },
    {
      "cell_type": "code",
      "execution_count": null,
      "metadata": {
        "id": "y4ZXi1QTdJb8"
      },
      "outputs": [],
      "source": [
        "## Insert your code here\n"
      ]
    },
    {
      "cell_type": "markdown",
      "metadata": {
        "id": "xy-8Ur3OdK1R"
      },
      "source": [
        "It is possible to specify the indices using the following syntax: pd.Series(X, index = Y) where X is the data list and Y is a list of associated indices.  \n",
        "\n",
        "2. Create a Series of 4 data points, each with a value of 1, and specify the following list of indices: ['a', 'b', 'c', 'd']."
      ]
    },
    {
      "cell_type": "code",
      "execution_count": null,
      "metadata": {
        "id": "W4WBtDWkdaqz"
      },
      "outputs": [],
      "source": [
        "## Insert your code here\n"
      ]
    },
    {
      "cell_type": "markdown",
      "metadata": {
        "id": "tgZswceydg9c"
      },
      "source": [
        "By using indices, you can access the data in the Series in the same way you access elements in a list.  \n",
        "Slicing is also possible.\n",
        "\n",
        "3. Create a variable named series_one and assign it a Series created from a list of 4 random numbers distributed between 0 and 1.\n",
        "4. Use the list of indices from the previous question: ['a', 'b', 'c', 'd'].\n",
        "5. Retrieve the first element of series_one using the corresponding index."
      ]
    },
    {
      "cell_type": "code",
      "execution_count": null,
      "metadata": {
        "id": "a9NJrEaNduhb"
      },
      "outputs": [],
      "source": [
        "## Insert your code here\n"
      ]
    },
    {
      "cell_type": "markdown",
      "metadata": {
        "id": "tUWqNk_kd3jl"
      },
      "source": [
        "6. Change the fourth data point of `series_un` to 0.\n",
        "7. Display `series_un`."
      ]
    },
    {
      "cell_type": "code",
      "execution_count": null,
      "metadata": {
        "id": "bqOanfROd7tr"
      },
      "outputs": [],
      "source": [
        "## Insert your code here\n"
      ]
    },
    {
      "cell_type": "markdown",
      "metadata": {
        "id": "FTcTc90Cd8cV"
      },
      "source": [
        "## Exercice 2\n",
        "\n",
        "Python consistently returns a `dtype: float64` when calling the Series. This represents the data type, in this case floats, and their encoding, here on 64 bits. You can specify the data type you want to handle when creating a Series.\n",
        "\n",
        "Furthermore, you can name the Series using the `name` parameter.\n",
        "\n",
        "1. Create a variable `series_two` from an array of four ones.\n",
        "2. Specify the data type `dtype` as `int`.\n",
        "3. Name this Series `my_series`.\n",
        "4. Display the Series."
      ]
    },
    {
      "cell_type": "code",
      "execution_count": null,
      "metadata": {
        "id": "rfY959wGeGr7"
      },
      "outputs": [],
      "source": [
        "## Insert your code here\n"
      ]
    },
    {
      "cell_type": "markdown",
      "metadata": {
        "id": "PNKXCGTceL0e"
      },
      "source": [
        "The `describe()` function returns a variety of information about the Series it is applied to.\n",
        "\n",
        "5. Create a variable `series_three` from an array of 20 random numbers uniformly distributed between 0 and 1.\n",
        "6. Display information about the Series using `describe()`.\n"
      ]
    },
    {
      "cell_type": "code",
      "execution_count": null,
      "metadata": {
        "id": "yzfxfUh9eOIU"
      },
      "outputs": [],
      "source": [
        "## Insert your code here\n"
      ]
    },
    {
      "cell_type": "markdown",
      "metadata": {
        "id": "QtzE8a1SePyL"
      },
      "source": [
        "It's possible to add Series together. Pandas will sum the data with matching *indices*. If an *index* is missing in one of the Series, the resulting sum Series will display `NaN` (Not a Number) at that index.\n",
        "\n",
        "7. Create a Series `series_four` from an array of 19 random numbers uniformly distributed between 0 and 1.\n",
        "8. Sum `series_three` and `series_four` and look at the result."
      ]
    },
    {
      "cell_type": "code",
      "execution_count": null,
      "metadata": {
        "id": "Ov2FCuNWeYCV"
      },
      "outputs": [],
      "source": [
        "## Insert your code here\n"
      ]
    },
    {
      "cell_type": "markdown",
      "metadata": {
        "id": "mNJ2fZ44eYd4"
      },
      "source": [
        "However, you can specify a particular value to use where the *indices* do not match during a summation. The following syntax is used:\n",
        "```\n",
        "## Assume a and b are two Series\n",
        "a.add(b, fill_value = 0)  ## we decide to replace with 0\n",
        "```\n",
        "\n",
        "9. Sum `series_three` and `series_four` by specifying fill_value equal to 100."
      ]
    },
    {
      "cell_type": "code",
      "execution_count": null,
      "metadata": {
        "id": "9baF86eeefac"
      },
      "outputs": [],
      "source": [
        "## Insert your code here\n"
      ]
    },
    {
      "cell_type": "markdown",
      "metadata": {
        "id": "GwdPFtD0egED"
      },
      "source": [
        "Lastly, it's possible to use mathematical operators on Series. The following syntax is used:\n",
        "```\n",
        "# Assume a is a Series\n",
        "a[a >= 0.5]  ## returns the data from a greater than 0.5\n",
        "a * 2  ## multiplies the data from a by two\n",
        "```\n",
        "\n",
        "10. Create a variable `a`, and assign it a Series of integer numbers uniformly distributed between 1 and 20, with a size of 20.\n",
        "11. Display the Series with data strictly greater than 10."
      ]
    },
    {
      "cell_type": "code",
      "execution_count": null,
      "metadata": {
        "id": "2AngWsJteoSc"
      },
      "outputs": [],
      "source": [
        "## Insert your code here\n"
      ]
    },
    {
      "cell_type": "markdown",
      "metadata": {
        "id": "WgRFU_qmeo7h"
      },
      "source": [
        "## Exercice 3\n",
        "\n",
        "1. Create an *index* of size 20 that includes \"boy\" or \"girl\" randomly distributed.\n",
        "    - use a list by comprehension\n",
        "2. Create an array of size 20 that displays ages ranging from 3 to 16 years, randomly distributed.\n",
        "3. Create a Series `cousins` with `name = \"my cousins\"`, the index created previously, and data from the array.\n",
        "4. Using the index, create a Series boys and a Series girls filtering the Series `cousins`.\n",
        "    - use `cousins.index`\n",
        "5. Display information about these two Series."
      ]
    },
    {
      "cell_type": "code",
      "execution_count": null,
      "metadata": {
        "id": "xX3E0v0yfJL7"
      },
      "outputs": [],
      "source": [
        "## Insert your code here\n"
      ]
    },
    {
      "cell_type": "code",
      "execution_count": null,
      "metadata": {},
      "outputs": [],
      "source": [
        "## Insert your code here\n"
      ]
    },
    {
      "cell_type": "markdown",
      "metadata": {
        "id": "4KoD1X7ZfYGX"
      },
      "source": [
        "## Exercice 4\n",
        "\n",
        "Now we turn our attention to DataFrames. DataFrames are the two-dimensional extension of Series. Thus, the *indices* are shared among the columns of the DataFrame.\n",
        "\n",
        "A common way to create a DataFrame is by using a dictionary. The syntax is as follows:\n",
        "```python\n",
        "pd.DataFrame({'Name of the first column': data_1, 'Name of the second column': data_2})\n",
        "```\n",
        "1. Create a DataFrame *df* with two columns: 'Gender' and 'Age', using the data from the previous question.\n",
        "2. Display the DataFrame."
      ]
    },
    {
      "cell_type": "code",
      "execution_count": null,
      "metadata": {
        "id": "13a135jrfYjz"
      },
      "outputs": [],
      "source": [
        "## Insert your code here\n"
      ]
    },
    {
      "cell_type": "markdown",
      "metadata": {
        "id": "OjcZjfXDf8AE"
      },
      "source": [
        "3. Create a list *dominant_hand* of size 20 that contains \"left-handed\" or \"right-handed\" distributed randomly.\n",
        "    - Use a list by comprehension \n",
        "4. Add this list as a new column to *df*.  \n",
        "    - Use `df['Dominant_hand'] = dominant_hand`\n",
        "    - When naming columns avoid putting spaces, use _ instead\n"
      ]
    },
    {
      "cell_type": "code",
      "execution_count": null,
      "metadata": {
        "id": "tLzR35u6gCHl"
      },
      "outputs": [],
      "source": [
        "## Insert your code here\n"
      ]
    },
    {
      "cell_type": "markdown",
      "metadata": {
        "id": "vqW6_kc8gKhE"
      },
      "source": [
        "*Slicing* is possible with DataFrames.\n",
        "\n",
        "5. Display the first 5 rows of *data_one*.\n",
        "    - Using slicing \n",
        "    - Using .head() method "
      ]
    },
    {
      "cell_type": "code",
      "execution_count": null,
      "metadata": {
        "id": "uVkw5CJrgL57"
      },
      "outputs": [],
      "source": [
        "## Insert your code here\n"
      ]
    },
    {
      "cell_type": "markdown",
      "metadata": {
        "id": "uWUpzA_YgWN-"
      },
      "source": [
        "6. Display the columns \"Gender\" and \"Dominant Hand\".\n"
      ]
    },
    {
      "cell_type": "code",
      "execution_count": null,
      "metadata": {},
      "outputs": [],
      "source": [
        "## Insert your code here\n"
      ]
    },
    {
      "cell_type": "markdown",
      "metadata": {
        "id": "m0D92LIRgR0y"
      },
      "source": [
        "## Exercice 5\n",
        "\n",
        "It is possible to concatenate two DataFrames using the command `pd.concat()`. The syntax is as follows:\n",
        "```python\n",
        "# Assume X and Y are two DataFrames\n",
        "pd.concat([X,Y], axis = 0)  ## concatenates vertically\n",
        "pd.concat([X,Y], axis = 1)  ## concatenates horizontally\n",
        "```\n",
        "1. Create a list of size 20 that includes \"red\", \"blue\", or \"green\" distributed randomly.\n",
        "    - use a list by comprehension \n",
        "    - use a dictionnary \n",
        "    - use np.random.randint\n",
        "2. Create a DataFrame df_colors from this list.\n",
        "3. Add a name to the column using the command df_colors.columns = ['Column_Name'].\n",
        "4. Concatenate df and df_colors into df.\n"
      ]
    },
    {
      "cell_type": "code",
      "execution_count": null,
      "metadata": {
        "id": "JiSwkgRignG7"
      },
      "outputs": [],
      "source": [
        "## Insert your code here\n"
      ]
    },
    {
      "cell_type": "markdown",
      "metadata": {
        "id": "mLsNSRsShgnX"
      },
      "source": [
        "## To Go Further\n",
        "\n",
        "Use pandas documentations or stackoverflow to find the answers of the following exercises.\n",
        "\n",
        "### Basic DataFrame Operations:\n",
        "\n",
        "1. Create a DataFrame from a dictionary with keys: 'Name', 'Age', 'City' and populate it with some data.\n",
        "2. Display the first 5 rows of the DataFrame.\n",
        "3. Display the last 3 rows of the DataFrame.\n",
        "4. Display the data types of each column.\n",
        "\n",
        "### Indexing and Selection:\n",
        "\n",
        "1. Select the 'Name' and 'City' columns from the DataFrame.\n",
        "2. Select the row at index 2 from the DataFrame.\n",
        "3. Select the rows where 'Age' is greater than 25. Display the first 5.\n",
        "\n",
        "### Sorting and Ranking:\n",
        "\n",
        "1. Sort the DataFrame based on 'Age' in descending order.\n",
        "2. Create a variable 'Age_rank', with the oldest as rank 1.\n",
        "\n",
        "### Missing Data:\n",
        "\n",
        "1. Introduce some missing values in the DataFrame using np.nan.\n",
        "    - Create a dataframe using a dictionnary by comprehension \n",
        "    - Do not add missing values to the column Name\n",
        "2. Display the number of missing values for each columns \n",
        "3. Fill the missing values with the mean of the non-missing values.\n",
        "\n",
        "### Grouping and Aggregation:\n",
        "\n",
        "1. Group the DataFrame by 'City' and calculate the mean age for each city.\n",
        "2. Find the maximum and minimum age for each city.\n",
        "3. Create a variable 'Age_rank_by_city', creating a ranking for each city.\n",
        "\n",
        "### Merging, Joining, and Concatenating:\n",
        "\n",
        "1. Create a second DataFrame with keys: 'Name', 'Job Title'.\n",
        "2. Merge the two DataFrames.\n",
        "    - Use df.merge"
      ]
    },
    {
      "cell_type": "code",
      "execution_count": null,
      "metadata": {
        "id": "JyMcHO9Ah_yc"
      },
      "outputs": [],
      "source": [
        "## Insert your code here\n"
      ]
    }
  ],
  "metadata": {
    "colab": {
      "provenance": []
    },
    "kernelspec": {
      "display_name": "Python 3",
      "name": "python3"
    },
    "language_info": {
      "codemirror_mode": {
        "name": "ipython",
        "version": 3
      },
      "file_extension": ".py",
      "mimetype": "text/x-python",
      "name": "python",
      "nbconvert_exporter": "python",
      "pygments_lexer": "ipython3",
      "version": "3.11.5"
    }
  },
  "nbformat": 4,
  "nbformat_minor": 0
}
