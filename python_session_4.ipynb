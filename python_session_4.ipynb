{
  "cells": [
    {
      "cell_type": "markdown",
      "metadata": {
        "id": "p1WzPxY0ZLwS"
      },
      "source": [
        "<img src=\"https://dauphine.psl.eu/fileadmin/_processed_/9/2/csm_damier_logo_Dauphine_f7b37a1ff2.jpg\" width=\"200\" style=\"vertical-align:middle\" /> <h1>Master 222: Introduction to Python - Session 4</h1>\n",
        "\n",
        "\n",
        "\n"
      ]
    },
    {
      "cell_type": "markdown",
      "metadata": {
        "id": "n1PHyLbh0m2v"
      },
      "source": [
        "[![Open In Colab](https://colab.research.google.com/assets/colab-badge.svg)](https://colab.research.google.com/github/jandsy/introduction_python_dauphine/blob/main/Session_3/matplotlib_yfinance_python_dauphine.ipynb)\n"
      ]
    },
    {
      "cell_type": "markdown",
      "metadata": {
        "id": "43jGxudWmlm5"
      },
      "source": [
        "# Introduction to Matplotlib\n",
        "\n",
        "Matplotlib is a Python library that serves as a powerful tool for plotting and visualizing data. It is designed to produce a wide variety of plots and graphs. Matplotlib includes a sub-library called pyplot, which creates an interface similar to that of the commercial software Matlab, and contains functions very similar to it.\n",
        "\n",
        "There are libraries like Seaborn that can automatically beautify the figures or give them a different style, but we will not be integrating them in this training.\n",
        "\n",
        "Furthermore, Matplotlib is a very rich library, and not all its functionalities can be covered. This training chooses to explore certain functions more than others, with the overall goal of enabling any student to become proficient with the module by the end of the course.\n",
        "\n",
        "To begin, it's necessary to import the matplotlib.pyplot module under the shortened name of 'plt'. <br>\n",
        "Once a graph is constructed, the plt.show() command will allow you to visualize it.<br>\n",
        "However, in a Notebook, like here on collab, adding %matplotlib inline at the beginning of the page will automatically display the figures with each modification or use of a pyplot command, after the execution of the cell.<br>\n",
        "\n",
        "- Import matplotlib.pyplot and add %matplotlib inline\n",
        "- Import numpy"
      ]
    },
    {
      "cell_type": "code",
      "execution_count": 39,
      "metadata": {
        "id": "0Odd7qtOmvLk"
      },
      "outputs": [],
      "source": [
        "## Insert your code here"
      ]
    },
    {
      "cell_type": "markdown",
      "metadata": {
        "id": "QPlaOFm5naWY"
      },
      "source": [
        "**Curve Definition and Plotting**\n",
        "\n",
        "A curve is, by definition, a set of points with coordinates (x, y) that may or may not be connected by a line. The more points there are, the smoother the curve will appear.\n",
        "\n",
        "The plt.plot() method allows for plotting curves that connect points whose x (abscissa) and y (ordinate) values are provided in lists or arrays.\n",
        "\n",
        "To plot a graph with 'x' values on the horizontal axis and 'y' values on the vertical axis, we write: plt.plot(x,y).\n",
        "\n",
        "Plot a curve with the x-values [0,2,4,6] and the y-values [1,4,4,8]."
      ]
    },
    {
      "cell_type": "code",
      "execution_count": 40,
      "metadata": {
        "id": "2B2mywL8nj90"
      },
      "outputs": [],
      "source": [
        "## Insert your code here"
      ]
    },
    {
      "cell_type": "markdown",
      "metadata": {
        "id": "zQa5hSMUnx0W"
      },
      "source": [
        "**Automatic Abscissa Generation**\n",
        "\n",
        "If only a single list or array is inserted into the plot() command, Matplotlib assumes that it's a sequence of y (ordinate) values and automatically generates the x (abscissa) values for you. The x values will be the indices of the y values, starting from 0.\n",
        "\n",
        "Plot a curve using the list [1,3,2,4].\n"
      ]
    },
    {
      "cell_type": "code",
      "execution_count": 41,
      "metadata": {
        "id": "RUGi3wyhn0SO"
      },
      "outputs": [],
      "source": [
        "## Insert your code here"
      ]
    },
    {
      "cell_type": "markdown",
      "metadata": {
        "id": "S1_8dgLzn7YI"
      },
      "source": [
        "**Adding Titles and Axis Labels**\n",
        "\n",
        "To add a title to the graphs, we use the title method.  \n",
        "To add labels to the axes, we use the xlabel and ylabel methods.  \n",
        "\n",
        "- Plot a curve passing through the following points: (50,1), (100,3), (200,4).\n",
        "- Title the figure 'My First Curve'.\n",
        "- Label the x-axis as 'abscissa' and the y-axis as 'ordinates'."
      ]
    },
    {
      "cell_type": "code",
      "execution_count": 42,
      "metadata": {
        "id": "dzYfTrMSoLmk"
      },
      "outputs": [],
      "source": [
        "## Insert your code here"
      ]
    },
    {
      "cell_type": "markdown",
      "metadata": {
        "id": "CNe6lmAwwQnZ"
      },
      "source": [
        "The plot() function simply connects points in the order they are provided.  \n",
        "It's possible to provide multiple points with the same x-coordinate to draw a specific shape.\n",
        "\n",
        "- Create the following x and y lists: x = [0, 0, 1, 1, 0, 0.5, 1] , y = [1, 0, 0, 1, 1, 2, 1].\n",
        "- Use the plot function to connect these points and set the limits of both axes from -1 to 2."
      ]
    },
    {
      "cell_type": "code",
      "execution_count": 43,
      "metadata": {
        "id": "zudNay1CwVNf"
      },
      "outputs": [],
      "source": [
        "## Insert your code here"
      ]
    },
    {
      "cell_type": "markdown",
      "metadata": {
        "id": "kQeFZI8rwdHU"
      },
      "source": [
        "Similarly, one can plot a parametric curve using a sequence **t**. For this, provide the `plot` method with one function of **t** for the x-coordinates and another for the y-coordinates.\n",
        "\n",
        "- Use the **linspace** method from *Numpy* to create a sequence of 100 numbers between 0 and $2\\pi$.\n",
        "- Plot the parametric curve defined by $$ f(t) = (\\sin(2t), \\sin(3t)), t \\in [0, 2\\pi].$$\n"
      ]
    },
    {
      "cell_type": "code",
      "execution_count": 44,
      "metadata": {
        "id": "L9LVw7i2w6sE"
      },
      "outputs": [],
      "source": [
        "## Insert your code here"
      ]
    },
    {
      "cell_type": "markdown",
      "metadata": {
        "id": "mZ5OvsZG0RiE"
      },
      "source": [
        "- Create an Array of values from 0 to $2\\pi$\n",
        "- Calculate sine values for these points.\n",
        "- Calculate cosine values for these points.\n",
        "- Plot both curves on the same graph.\n",
        "- Make the sine curve blue and the cosine curve red.\n",
        "- Add a title, legend, and labels for the X and Y axes.\n"
      ]
    },
    {
      "cell_type": "code",
      "execution_count": 45,
      "metadata": {
        "id": "XlKzLfFG0OwP"
      },
      "outputs": [],
      "source": [
        "## Insert your code here\n"
      ]
    },
    {
      "cell_type": "markdown",
      "metadata": {
        "id": "8KmXckej05rD"
      },
      "source": [
        "\n",
        "\n",
        "**Basic Scatter Plot**\n",
        "\n",
        "*We advice you to check on matplotlib documentation to see how to plot a basic scatter plot.*\n",
        "\n",
        "- Generate two arrays of 100 random values each for X and Y coordinates. You can use numpy for this.\n",
        "- Generate an array of 100 random values to be used for coloring the points.\n",
        "- Create a scatter plot using the X, Y, and color arrays.\n",
        "- Add a colorbar to the plot.\n"
      ]
    },
    {
      "cell_type": "code",
      "execution_count": 46,
      "metadata": {
        "id": "lmNBj_r604G5"
      },
      "outputs": [],
      "source": [
        "## Insert your code here\n"
      ]
    },
    {
      "cell_type": "markdown",
      "metadata": {
        "id": "PYZPevdZ1kaA"
      },
      "source": [
        "**Histogram**\n",
        "\n",
        "- Generate 1000 random numbers from a normal distribution with mean 0 and standard deviation 1.\n",
        "- Create a histogram using these numbers.\n",
        "Label the X axis as \"Value\" and Y axis as \"Frequency\".\n",
        "- Add a title \"Histogram of Normally Distributed Random Numbers\"."
      ]
    },
    {
      "cell_type": "code",
      "execution_count": 47,
      "metadata": {
        "id": "x5Y2sx8w15CV"
      },
      "outputs": [],
      "source": [
        "## Insert your code here"
      ]
    },
    {
      "cell_type": "markdown",
      "metadata": {
        "id": "H3CDUM9m2KZD"
      },
      "source": [
        "**Bar Chart**\n",
        "- Create an array of months: ['Jan', 'Feb', 'Mar', 'Apr', 'May', 'Jun', 'Jul', 'Aug', 'Sep', 'Oct', 'Nov', 'Dec'].\n",
        "- Generate a random array of sales values for each month (for simplicity, use integer values between 5000 and 15000).\n",
        "- Plot a bar chart using the months and sales data.\n",
        "- Add a title, and labels for the X and Y axes.\n",
        "- Color the bar of the month with the highest sales in green."
      ]
    },
    {
      "cell_type": "code",
      "execution_count": 48,
      "metadata": {
        "id": "xTdEP3RE2hhy"
      },
      "outputs": [],
      "source": [
        "## Insert your code here"
      ]
    },
    {
      "cell_type": "markdown",
      "metadata": {
        "id": "7RDHN5bN2lxY"
      },
      "source": [
        "**Pie Chart**\n",
        "- Create an array of departments: ['R&D', 'Marketing', 'Sales', 'Operations', 'Others'].\n",
        "- Generate a random array of budget allocations for these departments (making sure they sum to 1).\n",
        "- Plot a pie chart with labels being the department names.\n",
        "- Highlight the department with the largest budget by \"exploding\" that slice.\n",
        "Add a title \"Budget Distribution Across Departments\"."
      ]
    },
    {
      "cell_type": "code",
      "execution_count": 49,
      "metadata": {
        "id": "C5bAnS2E2vgT"
      },
      "outputs": [],
      "source": [
        "## Insert your code here"
      ]
    },
    {
      "cell_type": "markdown",
      "metadata": {
        "id": "y476BsZZ05E_"
      },
      "source": [
        "**Exercise: Simulating Asset Paths using Geometric Brownian Motion**\n",
        "\n",
        "**Goal:** Create a simulation of potential future stock prices using the Geometric Brownian Motion (GBM) model and visualize the results.\n",
        "\n",
        "**Import Required Libraries**\n",
        "- Import numpy and matplotlib.pyplot\n",
        "\n",
        "**Define GBM Parameters**\n",
        "- $S_0$: Initial stock price\n",
        "- $T$: Time horizon (in years)\n",
        "- $r$: Risk-free rate (annualized)\n",
        "- $sigma$: Volatility (annualized)\n",
        "- $dt$: Time increment, e.g., a day\n",
        "- $n$: Number of time steps\n",
        "- $m$: Number of potential paths to simulate\n",
        "\n",
        "**Simulate GBM Paths**\n",
        "\n",
        "We recall that GBM is defined as\n",
        "$$ dS_t = \\mu S_t dt + \\sigma S_t dW_t $$\n",
        "\n",
        "Where:\n",
        "- $S_t$: Stock price at time $t$.\n",
        "- $\\mu$: Expected return or the drift, which is typically the risk-free rate.\n",
        "- $\\sigma$: Volatility of the stock.\n",
        "- $dW_t$: Wiener process or Brownian motion.\n",
        "\n",
        "For discrete time intervals, the formula to simulate the stock price $S_{t+1}$  given a stock price $S_t$ is:\n",
        "\n",
        "$$ S_{t+1} = S_t  \\exp \\left( (\\mu - \\frac{\\sigma^2}{2}) \\Delta t + \\sigma \\sqrt{\\Delta t} Z \\right) $$\n",
        "\n",
        "Where:\n",
        "- $ \\Delta t$: Size of the time step.\n",
        "- $Z$: A random draw from a standard normal distribution.\n",
        "\n",
        "**Visualize the Simulated Paths**\n",
        "\n",
        "\n"
      ]
    },
    {
      "cell_type": "code",
      "execution_count": 50,
      "metadata": {
        "id": "fLc3dNfu2z0I"
      },
      "outputs": [],
      "source": [
        "## Insert your code here"
      ]
    },
    {
      "cell_type": "markdown",
      "metadata": {
        "id": "7muY4j0PxT29"
      },
      "source": [
        "## To Go Further\n",
        "\n",
        "### 1. Basic Line Plot\n",
        "- Generate a sequence of numbers from -10 to 10.\n",
        "- Plot their square values on a graph. Label the x-axis as \"Numbers\" and the y-axis as \"Squares\" and give the plot a title.\n",
        "\n",
        "### 2. Multiple Line Plots\n",
        "- Using the same sequence from the previous exercise, plot both the square and cube values on the same graph. Use different colors and line styles for each plot and add a legend to distinguish between them.\n",
        "\n",
        "### 3. Scatter Plot\n",
        "- Generate 50 random numbers for x-values and y-values.\n",
        "- Plot them using a scatter plot. Experiment with changing the size, color, and marker style.\n",
        "\n",
        "### 4. Histogram\n",
        "- Generate 1000 random numbers following a normal distribution using `numpy`.\n",
        "- Plot a histogram to visualize the distribution. Play around with the number of bins.\n",
        "\n",
        "### 5. Bar Chart\n",
        "- Take a list of fruits: `['Apple', 'Banana', 'Cherry', 'Date', 'Elderberry']`.\n",
        "- Assume some random sale values for each fruit and plot a bar chart to visualize fruit sales.\n",
        "\n",
        "### 6. Pie Chart\n",
        "- Using the fruit sales data from the previous exercise, plot a pie chart to show the proportion of sales by fruit. Ensure each section of the pie chart is labeled and displays a percentage.\n",
        "\n",
        "### 7. Subplots\n",
        "- Create four subplots in a 2x2 grid.\n",
        "  - In the top-left, plot a sine curve.\n",
        "  - In the top-right, plot a cosine curve.\n",
        "  - In the bottom-left, plot a tangent curve.\n",
        "  - In the bottom-right, plot a circle.\n",
        "- Ensure each subplot has a title.\n",
        "\n",
        "### 8. 3D Plotting\n",
        "- Create a 3D surface plot. You can use the `numpy` meshgrid function to generate x, y, and z values. For instance, plot the surface \\( z = x^2 + y^2 \\).\n",
        "\n",
        "### 9. Customization\n",
        "- Choose any of the previous exercises and experiment with the aesthetics. Change colors, fonts, line styles, marker styles, etc. Also, explore how to add text annotations, grid lines, and other custom elements.\n",
        "\n"
      ]
    },
    {
      "cell_type": "code",
      "execution_count": null,
      "metadata": {},
      "outputs": [],
      "source": [
        "## Insert your code here"
      ]
    }
  ],
  "metadata": {
    "colab": {
      "provenance": []
    },
    "kernelspec": {
      "display_name": "Python 3",
      "name": "python3"
    },
    "language_info": {
      "name": "python"
    }
  },
  "nbformat": 4,
  "nbformat_minor": 0
}
