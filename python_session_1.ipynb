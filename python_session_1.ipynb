{
  "cells": [
    {
      "cell_type": "markdown",
      "metadata": {
        "id": "xe6QeItHXBTV"
      },
      "source": [
        "<img src=\"https://dauphine.psl.eu/fileadmin/_processed_/9/2/csm_damier_logo_Dauphine_f7b37a1ff2.jpg\" width=\"200\" style=\"vertical-align:middle\" /> <h1>Master 222: Introduction to Python - Session 1</h1>"
      ]
    },
    {
      "cell_type": "markdown",
      "metadata": {
        "id": "oJRWMLS_hbac"
      },
      "source": [
        "[![Open In Colab](https://colab.research.google.com/assets/colab-badge.svg)](https://colab.research.google.com/github/Zaltarba/PSL_python_for_finance/blob/main/python_session_1.ipynb)\n"
      ]
    },
    {
      "cell_type": "code",
      "execution_count": null,
      "metadata": {
        "id": "8pH4KUQv1Pj4"
      },
      "outputs": [],
      "source": [
        "# Access files from Google Drive\n",
        "from google.colab import drive\n",
        "drive.mount('/content/gdrive')"
      ]
    },
    {
      "cell_type": "markdown",
      "metadata": {
        "id": "0JNN4n-o5A00"
      },
      "source": [
        "# 1 - The `print` Function in Python\n",
        "\n",
        "In Python, the `print` function is one of the most basic and frequently used built-in functions.  \n",
        "Its primary purpose is to display information to the console.\n",
        "\n",
        "### Basic Usage\n",
        "\n",
        "To print a simple message or variable's value, you can use the `print` function like this:\n",
        "\n",
        "```\n",
        "print(\"Hello, World!\")\n",
        "```\n",
        "\n",
        "**Printing Multiple Items**\n",
        " You can print multiple items in a single call by separating them with commas:\n",
        "\n",
        "```\n",
        "name = \"Bob\"\n",
        "print(\"Hello,\", name, \"!\") # This will output: Hello, Bob !\n",
        "```\n",
        "\n",
        "**String Formatting**\n",
        "\n",
        "Python provides several methods to print variables values within a str :\n",
        "\n",
        "1.   Using f-strings:\n",
        "```\n",
        "age = 30\n",
        "print(f\"Bob is {age} years old.\")\n",
        "```\n",
        "2.   Using the str.format() method:\n",
        "```\n",
        "print(\"Bob is {} years old.\".format(age))\n",
        "```\n",
        "3. Using %-formatting:\n",
        "```\n",
        "print(\"Bob is %d years old.\" % age)\n",
        "```\n",
        "\n",
        "**End and Separator**\n",
        "\n",
        "The print function also offers parameters like end and sep to control the output:\n",
        "\n",
        "- sep: Specifies how to separate multiple items. \n",
        "- end: Specifies what to print at the end.\n",
        "\n",
        "```\n",
        "print(\"Hello\", \"World\", sep=\"-\", end=\"!\") # This will output: Hello-World!\n",
        "```"
      ]
    },
    {
      "cell_type": "markdown",
      "metadata": {
        "id": "qHd17_2U6x0W"
      },
      "source": [
        "## Exercice 1 \n",
        "\n",
        "1. Use the `print` function to display the message \"Hello, Python learners!\" to the console.\n",
        "2. Print the words \"Python\", \"is\", \"fun\" to the console, using dashes (`-`) instead of spaces as separators between the words."
      ]
    },
    {
      "cell_type": "code",
      "execution_count": null,
      "metadata": {
        "id": "UX1lX1TJ6-Mj"
      },
      "outputs": [],
      "source": [
        "## Insert your code here"
      ]
    },
    {
      "cell_type": "markdown",
      "metadata": {
        "id": "0ZspWuL06Nk2"
      },
      "source": [
        "# 2 - Basic Variable Manipulation \n",
        "\n",
        "When creating a variable in Python, the computer allocates a spot in the RAM. This spot holds the value of the created variable.\n",
        "\n",
        "To establish a connection between a variable's name and its content, we use the symbol '='. The syntax is as follows:\n",
        "\n",
        "`variable_name = variable_value`. \n",
        "\n",
        "Commonly, we say we are assigning the variable_value to our variable variable_name, but in reality, Python associates a reference, an address to our variable_value with our `variable_name`.  \n",
        "Thus, when you copy a variable, you are only copying the reference to that variable, making the copy operation faster.   \n",
        "We will explore this concept further below."
      ]
    },
    {
      "cell_type": "markdown",
      "metadata": {},
      "source": [
        "## Exercice 2\n",
        "\n",
        "1. Create a variable called `my_variable`.\n",
        "2. Assign it the value 2."
      ]
    },
    {
      "cell_type": "code",
      "execution_count": null,
      "metadata": {
        "id": "JaAvfkbP6XWs"
      },
      "outputs": [],
      "source": [
        "## Insert your code here"
      ]
    },
    {
      "cell_type": "markdown",
      "metadata": {
        "id": "aYIJEiRp6lWQ"
      },
      "source": [
        "3. Create another variable called global.\n",
        "4. Assign it any value."
      ]
    },
    {
      "cell_type": "code",
      "execution_count": null,
      "metadata": {
        "id": "zYWn3GYR6pxT"
      },
      "outputs": [],
      "source": [
        "## Insert your code here"
      ]
    },
    {
      "cell_type": "markdown",
      "metadata": {
        "id": "yIZpzqRH6qfa"
      },
      "source": [
        "Python returns an invalid syntax error.  \n",
        "Indeed, there are **reserved words** in Python, and **global** is one of them.   \n",
        "Similarly, it's impossible to start a variable's name with a number.\n",
        "\n",
        "For more information on [reserved words](https://fr.wikibooks.org/wiki/Programmation_Python/Tableau_des_mots_r%C3%A9serv%C3%A9s).\n",
        "\n",
        "To display the value of a variable, there are several methods. Here are two:\n",
        "\n",
        "- Simply type and enter the variable name at the keyboard.\n",
        "    `X` will output the value of the variable X.\n",
        "- Use the print() function.\n",
        "    `print(X)` will output the value of the variable X.\n",
        "\n",
        "5. Create a variable called `number`.\n",
        "    - Assign it the value 3.0.\n",
        "    - Display the value on the screen using the first method.\n",
        "\n"
      ]
    },
    {
      "cell_type": "code",
      "execution_count": null,
      "metadata": {
        "id": "LyIc1amQ6__1"
      },
      "outputs": [],
      "source": [
        "## Insert your code here"
      ]
    },
    {
      "cell_type": "markdown",
      "metadata": {},
      "source": [
        "## Exercice 3"
      ]
    },
    {
      "cell_type": "markdown",
      "metadata": {
        "id": "s746j5p5-D1V"
      },
      "source": [
        "A variable is a piece of data stored by the computer in a specific location in the RAM. There are various types of variables in Python:\n",
        "<center>\n",
        "<table>\n",
        "  <tr>\n",
        "    <th>Type</th>\n",
        "    <th>Meaning</th>\n",
        "    <th>Example</th>\n",
        "  </tr>\n",
        "  <tr>\n",
        "    <td><i>int</i></td>\n",
        "    <td>Integer number</td>\n",
        "    <td>2</td>\n",
        "  </tr>\n",
        "  <tr>\n",
        "    <td><i>float</i></td>\n",
        "    <td>Floating-point number</td>\n",
        "    <td>3.0</td>\n",
        "  </tr>\n",
        "  <tr>\n",
        "    <td><i>complex</i></td>\n",
        "    <td>Complex number</td>\n",
        "    <td>2j</td>\n",
        "  </tr>\n",
        "  <tr>\n",
        "    <td><i>str</i></td>\n",
        "    <td>String</td>\n",
        "    <td>\"Dauphine\"</td>\n",
        "  </tr>\n",
        "  <tr>\n",
        "    <td><i>tuple</i></td>\n",
        "    <td>Fixed-length list</td>\n",
        "    <td>(1,2)</td>\n",
        "  </tr>\n",
        "  <tr>\n",
        "    <td><i>list</i></td>\n",
        "    <td>Variable-length list</td>\n",
        "    <td>[1,2]</td>\n",
        "  </tr>\n",
        "  <tr>\n",
        "    <td><i>dict</i></td>\n",
        "    <td>Dictionary</td>\n",
        "    <td>{0:'a',1:'b'}</td>\n",
        "  </tr>\n",
        "  <tr>\n",
        "    <td><i>bool</i></td>\n",
        "    <td>Boolean</td>\n",
        "    <td>True</td>\n",
        "  </tr>\n",
        "</table>\n",
        "</center>"
      ]
    },
    {
      "cell_type": "markdown",
      "metadata": {},
      "source": [
        "To know the type of data in Python, use `type(X)` where `X` is the variable whose type you want to know.\n",
        "\n",
        "1. Create four variables named `a`, `b`, `c`, and `d`.\n",
        "2. Assign:\n",
        "    - `a` the value 2\n",
        "    - `b` the value 3.0\n",
        "    - `c` the value \"Hello\"\n",
        "    - `d` the value True"
      ]
    },
    {
      "cell_type": "code",
      "execution_count": null,
      "metadata": {
        "id": "4IspMYgV-H6r"
      },
      "outputs": [],
      "source": [
        "## Insert your code here"
      ]
    },
    {
      "cell_type": "markdown",
      "metadata": {
        "id": "YUXhNkwy_ZEo"
      },
      "source": [
        "## Exercice 4 \n",
        "\n",
        "To better grasp the concept of references in Python, we suggest the following exercise:\n",
        "\n",
        "1. Create a variable `a` and assign it a list [1,2].\n",
        "2. Create another variable `b` and assign it the value of `a`.\n",
        "3. Add the element 3 to b by writing `b.append(3)` where 3 is the element you want to add to the list `b`.\n",
        "4. Display `a`. What do you notice?"
      ]
    },
    {
      "cell_type": "code",
      "execution_count": null,
      "metadata": {
        "id": "7qGlfNcU_m6D"
      },
      "outputs": [],
      "source": [
        "## Insert your code here"
      ]
    },
    {
      "cell_type": "markdown",
      "metadata": {},
      "source": [
        "In reality, the references of `a` and `b` are the same since `a` and `b` are what we call mutable objects. We haven't covered objects, but understand that in Python, everything you manipulate is an object.\n",
        "\n",
        "There are thus two types of objects: mutable (lists, dictionaries) and immutable (strings, int, complex, floats, tuples). Mutable objects are those that can be altered after creation. On the contrary, when you \"modify\" an immutable object, Python creates a new memory address for this new object."
      ]
    },
    {
      "cell_type": "markdown",
      "metadata": {
        "id": "6WQEbYkxAHXK"
      },
      "source": [
        "## Exercice 5\n",
        "\n",
        "1. Create a variable `a` and assign it the value 1.\n",
        "2. Create a variable `b` and assign it the value of `a`.\n",
        "3. Increment b by 1.\n",
        "4. Display `a`."
      ]
    },
    {
      "cell_type": "code",
      "execution_count": null,
      "metadata": {
        "id": "yEsKV7qcohb0"
      },
      "outputs": [],
      "source": [
        "## Insert your code here"
      ]
    },
    {
      "cell_type": "markdown",
      "metadata": {
        "id": "6ePW9sTLinW9"
      },
      "source": [
        "# 3 -  Lists in Python\n",
        "\n",
        "Lists in Python are ordered collections of items which can be of any type.  \n",
        "Lists are very flexible and can be modified after they have been created.  \n",
        "A list is created by placing all the items (elements) inside square brackets `[]`, separated by commas.\n",
        "\n",
        "Here's a simple example:\n",
        "\n",
        "```\n",
        "my_list = [1, 2, 3, 4, 5]\n",
        "```\n",
        "\n",
        " **Accessing Elements**\n",
        "\n",
        "Elements in a list can be accessed using an index, with the first element at index 0. For example:\n",
        "\n",
        "```\n",
        "first_element = my_list[0]  # This will be 1\n",
        "```\n",
        "\n",
        "**Modifying Lists**\n",
        "\n",
        "Lists are mutable, meaning that you can change their content:\n",
        "\n",
        "```\n",
        "my_list[0] = 10  # Now, my_list is [10, 2, 3, 4, 5]\n",
        "```\n",
        "\n",
        "**Length of a List**\n",
        "\n",
        "The length of a list can be obtained with the len() function:\n",
        "\n",
        "```\n",
        "list_length = len(my_list)  # This will be 5\n",
        "```\n",
        "\n",
        "**Adding Elements**\n",
        "\n",
        " You can add elements to the end of a list using the append() method:\n",
        "\n",
        "```\n",
        "my_list.append(6)  # Now, my_list is [10, 2, 3, 4, 5, 6]\n",
        "```\n",
        "\n",
        "**Removing Elements**\n",
        "\n",
        "You can remove elements from a list using the remove() method, or the pop() method which removes and returns the last item:\n",
        "\n",
        "```\n",
        "my_list.remove(2)  # Now, my_list is [10, 3, 4, 5, 6]\n",
        "last_item = my_list.pop()  # last_item is 6, my_list is [10, 3, 4, 5]\n",
        "```"
      ]
    },
    {
      "cell_type": "markdown",
      "metadata": {
        "id": "GORxJmQaol71"
      },
      "source": [
        "## Exercice 6\n",
        "\n",
        "1. Create a list named fruits containing the following items: apple, banana, cherry.\n",
        "2. Print the second item in the fruits list.\n",
        "3. Change the value of the second item of the fruits list to blackberry.\n",
        "4. Add orange to the end of the fruits list.\n",
        "5. Remove apple from the fruits list.\n"
      ]
    },
    {
      "cell_type": "code",
      "execution_count": null,
      "metadata": {
        "id": "l6Nm9l6LimvM"
      },
      "outputs": [],
      "source": [
        "## Insert your code here"
      ]
    },
    {
      "cell_type": "markdown",
      "metadata": {
        "id": "vpAh6NH0pe1Q"
      },
      "source": [
        "# 4 - Dictionary in Python\n",
        "\n",
        "Dictionaries in Python are a collection of key-value pairs, where each key must be unique. They are mutable and unordered. Dictionaries are defined by enclosing a comma-separated sequence of key-value pairs in curly braces `{}`, with a colon `:` separating the keys and values.\n",
        "\n",
        "```\n",
        "my_dict = {\n",
        "    'key1': 'value1',\n",
        "    'key2': 'value2',\n",
        "    'key3': 'value3',\n",
        "}\n",
        "```\n",
        "\n",
        "**Accessing Elements**\n",
        "\n",
        "To access the value associated with a particular key, you can use square brackets enclosing their key.\n",
        "```\n",
        "print(my_dict['key1'])  # Output: value1\n",
        "```\n",
        "\n",
        "**Adding and Updating Elements**\n",
        "\n",
        "You can add new key-value pairs or update the value of an existing key.\n",
        "```\n",
        "my_dict['key4'] = 'value4'  # Adds a new key-value pair\n",
        "my_dict['key1'] = 'new_value1'  # Updates the value of an existing key\n",
        "```\n",
        "\n",
        "**Removing Elements**\n",
        "\n",
        "You can remove a particular key-value pair with the pop method, or remove all entries with the clear method.\n",
        "```\n",
        "my_dict.pop('key2')  # Removes the key-value pair with key 'key2'\n",
        "my_dict.clear()  # Removes all key-value pairs\n",
        "```"
      ]
    },
    {
      "cell_type": "markdown",
      "metadata": {
        "id": "boy2mySJorex"
      },
      "source": [
        "## Question 7\n",
        "\n",
        "1. Create a dictionary student with keys 'name', 'age', and 'course', and assign some values to these keys.\n",
        "2. Print the value associated with the key 'name'."
      ]
    },
    {
      "cell_type": "code",
      "execution_count": null,
      "metadata": {
        "id": "lkCh0UGnAfi7"
      },
      "outputs": [],
      "source": [
        "## Insert your code here"
      ]
    },
    {
      "cell_type": "markdown",
      "metadata": {
        "id": "s_y4mDP5q6Ne"
      },
      "source": [
        "3. Update the age in the student dictionary to 26.\n",
        "4. Add a new key-value pair 'grade' with a value 'A' to the student dictionary.\n",
        "5. Print the updated dictionary.\n"
      ]
    },
    {
      "cell_type": "code",
      "execution_count": null,
      "metadata": {
        "id": "ZmMPEaKMrQTR"
      },
      "outputs": [],
      "source": [
        "## Insert your code here"
      ]
    },
    {
      "cell_type": "markdown",
      "metadata": {
        "id": "bMR7CQO5rQx_"
      },
      "source": [
        "6. Remove the key-value pair 'course' from the student dictionary using the pop method.\n",
        "7. Print the updated dictionary.\n"
      ]
    },
    {
      "cell_type": "code",
      "execution_count": null,
      "metadata": {
        "id": "BkN7X6VvrWLj"
      },
      "outputs": [],
      "source": [
        "## Insert your code here"
      ]
    },
    {
      "cell_type": "markdown",
      "metadata": {},
      "source": [
        "# 5 - Python Operators"
      ]
    },
    {
      "cell_type": "markdown",
      "metadata": {
        "id": "N5Vhg3lZCVMD"
      },
      "source": [
        "Now we are going to look at the different operators in Python. \n",
        "\n",
        "## 5.1- Mathematicals Operators \n",
        "\n",
        "The following table summarizes the different mathematical operators.\n",
        "\n",
        "<center>\n",
        "\n",
        "| Symbol | Effect                | Example         |\n",
        "|--------|-----------------------|-----------------|\n",
        "| +      | Addition              | 6 + 4 returns 10|\n",
        "| -      | Subtraction           | 6 - 4 returns 2  |\n",
        "| *      | Multiplication        | 6 * 4 returns 24 |\n",
        "| /      | Real Division         | 6 / 4 returns 1.5|\n",
        "| **     | Exponentiation        | 12 ** 2 returns 144 |\n",
        "| //     | Integer Division      | 6 // 4 returns 1 |\n",
        "| %      | Remainder of Division | 6 % 4 returns 2  |\n",
        "\n",
        "</center>\n",
        "\n",
        "### Question 8\n",
        "\n",
        "1. Question 8.1\n",
        "    - Define a variable `age`.\n",
        "    - Assign the value 35 to `age`.\n",
        "    - Display the number of days associated with the age using a mathematical operator."
      ]
    },
    {
      "cell_type": "code",
      "execution_count": null,
      "metadata": {
        "id": "NAQSg8iGCvGY"
      },
      "outputs": [],
      "source": [
        "## Insert your code here"
      ]
    },
    {
      "cell_type": "markdown",
      "metadata": {
        "id": "bk1T1xd6HoUi"
      },
      "source": [
        "2. Question 8.2\n",
        "    - Define a new variable `day`.\n",
        "    - Assign to day a number of days greater than 10,000.\n",
        "    - Display the corresponding number of years using a mathematical operator. Assume that a year has 365 days."
      ]
    },
    {
      "cell_type": "code",
      "execution_count": null,
      "metadata": {
        "id": "Ap45rp5yHsgM"
      },
      "outputs": [],
      "source": [
        "## Insert your code here"
      ]
    },
    {
      "cell_type": "markdown",
      "metadata": {
        "id": "Zj_05JYoIkPH"
      },
      "source": [
        "3. Question 8.3\n",
        "    - Create the variables `distance` and `time`.\n",
        "    - Assign the value 15 to `distance`.\n",
        "    - Assign the value 14.4 to `time`.\n",
        "    - Create a new variable `speed` and assign it the corresponding speed based on the previous two variables.\n",
        "    - Display the variable `speed`, using the formula $speed = \\frac{distance}{time} $\n"
      ]
    },
    {
      "cell_type": "code",
      "execution_count": null,
      "metadata": {
        "id": "qvHWSul4Ik4P"
      },
      "outputs": [],
      "source": [
        "## Insert your code here"
      ]
    },
    {
      "cell_type": "markdown",
      "metadata": {
        "id": "svglsuHqMJ70"
      },
      "source": [
        "## 5.2- Booleans Operators\n",
        "\n",
        "There are two other types of operators in Python that return Boolean values (True or False): logical operators and comparison operators.   \n",
        "\n",
        "Here's a table summarizing the logical operators:\n",
        "<center>\n",
        "\n",
        "| Expression | Meaning |\n",
        "|------------|---------|\n",
        "| X or Y     | Logical OR. If either X or Y is True, the expression is True. If neither is True, the expression is False. |\n",
        "| X and Y    | Logical AND. If both X and Y are True, the expression is True. Otherwise, the expression is False. |\n",
        "| not X      | Logical NOT. Opposite of X. If X is True, it returns False. If X is False, it returns True. |\n",
        "\n",
        "</center>\n",
        "\n",
        "### Question 9\n",
        "\n",
        "1. Create two variables `x` and `y`.\n",
        "2. Assign `True` to `x` and `False` to `y`.\n",
        "3. Create a new variable `z_false`.\n",
        "4. Using a logical operator with `x` and `y`, assign the value `False` to `z_false`.\n",
        "5. Create a new variable `z_true`.\n",
        "6. Using a logical operator with `x` and `y`, assign the value `True` to `z_true`.\n",
        "7. Display `z_false`.\n",
        "8. Display `z_true`."
      ]
    },
    {
      "cell_type": "code",
      "execution_count": null,
      "metadata": {
        "id": "kcu4mBFxM5nD"
      },
      "outputs": [],
      "source": [
        "## Insert your code here"
      ]
    },
    {
      "cell_type": "markdown",
      "metadata": {
        "id": "eh20CxaFNqVk"
      },
      "source": [
        "Now we turn our attention to the last type of operators: comparison operators.\n",
        "\n",
        "Below is a table summarizing the comparison operators:\n",
        "<center>\n",
        "\n",
        "| Expression | Meaning            |\n",
        "|------------|--------------------|\n",
        "| <          | Strictly less than |\n",
        "| >          | Strictly greater than |\n",
        "| <=         | Less than or equal to |\n",
        "| >=         | Greater than or equal to |\n",
        "| ==         | Equality            |\n",
        "| !=         | Inequality          |\n",
        "\n",
        "</center>\n",
        "\n",
        "### Question 10\n",
        "\n",
        "1. Create two variables `x` and `y`.\n",
        "2. Assign a float `2.0` to `x` and an int `2` to `y`.\n",
        "3. Return `True` in three different ways using only comparison operators."
      ]
    },
    {
      "cell_type": "code",
      "execution_count": null,
      "metadata": {
        "id": "Ew2LwExTNq0G"
      },
      "outputs": [],
      "source": [
        "## Insert your code here"
      ]
    },
    {
      "cell_type": "markdown",
      "metadata": {
        "id": "vzsBXRQpXZTY"
      },
      "source": [
        "Conditionals are a fundamental concept in programming, allowing you to perform different actions based on certain conditions. In Python, the `if`, `elif` (else if), and `else` statements are used to control the flow of execution in a program based on the evaluation of specified conditions.\n",
        "\n",
        "```\n",
        "if condition:\n",
        "    # code to execute if condition is True\n",
        "elif another_condition:\n",
        "    # code to execute if another_condition is True\n",
        "else:\n",
        "    # code to execute if no conditions are True```\n",
        "```\n",
        "\n",
        "### `if` Statement\n",
        "\n",
        "The `if` statement evaluates a condition and executes the indented block of code only if the condition is true.\n",
        "\n",
        "```\n",
        "x = 10\n",
        "if x > 5:\n",
        "    print(\"x is greater than 5\")\n",
        "```\n",
        "\n",
        "### `elif` Statement\n",
        "\n",
        "The `elif` (else if) statement allows you to check multiple conditions, executing its block of code if its condition is true and all previous conditions have been false.\n",
        "\n",
        "```\n",
        "x = 10\n",
        "if x > 15:\n",
        "    print(\"x is greater than 15\")\n",
        "elif x > 5:\n",
        "    print(\"x is greater than 5 but not greater than 15\")\n",
        "```\n",
        "\n",
        "### `else` Statement\n",
        "\n",
        "The `else` statement executes its block of code if no previous conditions have been true.\n",
        "\n",
        "```\n",
        "x = 10\n",
        "if x > 15:\n",
        "    print(\"x is greater than 15\")\n",
        "else:\n",
        "    print(\"x is not greater than 15\")\n",
        "```"
      ]
    },
    {
      "cell_type": "markdown",
      "metadata": {
        "id": "f_B0HxaRZt6K"
      },
      "source": [
        "### Question 11\n",
        "\n",
        "1. Given the age variable, write a sequence of instructions that prints whether : \n",
        "    - the person is a minor (under 18) \n",
        "    - an adult (18 to 64)\n",
        "    - a senior (65 or older)"
      ]
    },
    {
      "cell_type": "code",
      "execution_count": null,
      "metadata": {
        "id": "vm0llnwyaKhf"
      },
      "outputs": [],
      "source": [
        "age = 50\n",
        "## Insert your code here\n"
      ]
    },
    {
      "cell_type": "markdown",
      "metadata": {
        "id": "2hcF0xxzaK-D"
      },
      "source": [
        "- Given the variable number, write a sequence of instruction that prints whether : \n",
        "    - the number is positive \n",
        "    - the number is negative\n",
        "    - the number is zero "
      ]
    },
    {
      "cell_type": "code",
      "execution_count": null,
      "metadata": {
        "id": "U-jbrvQGaN62"
      },
      "outputs": [],
      "source": [
        "number = 100\n",
        "## Insert your code here"
      ]
    },
    {
      "cell_type": "markdown",
      "metadata": {
        "id": "1SSRwKI0OFNp"
      },
      "source": [
        "## 5.3 To go further ...\n",
        "### Exercise : Mathematical Operators\n",
        "- Define a variable `radius` with a value of `7`.\n",
        "- Calculate the area of a circle using the formula $ Area = \\pi r^2 $ (you can use `3.1415` for $\\pi$) and store the result in a variable called `area`.\n",
        "- Display the `area` variable.\n",
        "- Create a function compute_area that takes the radius as argument and returns the area\n",
        "\n",
        "### Exercise : Comparison Operators\n",
        "- Create two variables `a` with a value of `10` and `b` with a value of `20`.\n",
        "- Return `False` in three different ways using only comparison operators.\n",
        "\n",
        "### Exercise : Variable Types and Casting\n",
        "- Define four variables `m`, `n`, `o`, and `p`.\n",
        "- Assign the following values to them: `5`, `5.0`, `\"5\"`, and `True`, respectively.\n",
        "- Display the type of each variable using the `type()` function.\n",
        "- Cast variable `n` to integer, `o` to float, and `p` to string, and display the updated variable types.\n",
        "\n",
        "\n",
        "### Exercise : Understanding References in Python\n",
        "Understanding how references work in Python is crucial, especially when dealing with mutable and immutable objects. In this exercise, you will explore this concept through a practical example:\n",
        "\n",
        "- Create a variable `str_1` and assign the string value `\"hello\"` to it.\n",
        "- Now create another variable `str_2` and assign `str_1` to it.\n",
        "- Modify `str_2` by concatenating the string `\" world\"` to it (i.e., `str_2 = str_2 + \" world\"`).\n",
        "- Display both `str_1` and `str_2`.\n",
        "- Now create a variable `list_1` and assign a list containing two string elements: `[\"hello\", \"world\"]` to it.\n",
        "- Create another variable `list_2` and assign `list_1` to it.\n",
        "- Modify `list_2` by appending another string `\"!\"` to it (i.e., `list_2.append(\"!\")`).\n",
        "- Display both `list_1` and `list_2`.\n",
        "\n",
        "What do you notice about the behavior of string and list objects in Python when assigned to another variable and modified?"
      ]
    },
    {
      "cell_type": "code",
      "execution_count": null,
      "metadata": {
        "id": "JSDAIIJoOVJa"
      },
      "outputs": [],
      "source": [
        "## Insert your code here"
      ]
    },
    {
      "cell_type": "markdown",
      "metadata": {
        "id": "-fIzE1iIRH-W"
      },
      "source": [
        "# 6 - Loops in Python\n",
        "\n",
        "Loops in programming allow for the repetition of a block of code as long as a specified condition is met. They are essential for performing repetitive tasks with minimal code. Python provides two main types of loops: `for` loops and `while` loops.\n",
        "\n",
        "## For Loops\n",
        "\n",
        "A `for` loop in Python is used to iterate over a sequence (such as a list, tuple, or string) or other iterable objects.\n",
        "\n",
        "```\n",
        "for i in range(5):\n",
        "    print(i)\n",
        "```\n",
        "\n",
        "## While Loops\n",
        "\n",
        "A `while` loop in Python is used to repeatedly execute a block of code as long as a condition is true.\n",
        "\n",
        "```\n",
        "# Example of a while loop\n",
        "count = 0\n",
        "while count < 5:\n",
        "    print(count)\n",
        "    count += 1\n",
        "```\n",
        "\n",
        "## Loop Control Statements\n",
        "\n",
        "Loop control statements change the execution of a loop from its normal sequence. Python supports the following control statements:\n",
        "\n",
        "break: Terminates the loop and transfers execution to the statement immediately following the loop.\n",
        "continue: Causes the loop to skip the rest of its body and immediately retest its condition prior to reiterating.\n",
        "\n",
        "```\n",
        "# Example using break and continue\n",
        "for num in range(10):\n",
        "    if num == 5:\n",
        "        break  # Exit loop when num is 5\n",
        "    elif num == 3:\n",
        "        continue  # Skip iteration when num is 3\n",
        "    print(num)\n",
        "```"
      ]
    },
    {
      "cell_type": "markdown",
      "metadata": {
        "id": "maTmd3QwTEMS"
      },
      "source": [
        "To recall, **a block in Python is defined by a certain level of indentation** (and begins after a line ending with \"**`:`**\").\n",
        "\n",
        "The expression represented by `condition` is _evaluated_ as a **boolean** variable (for example, if `condition` is a string, the test is evaluated as `True` if and only if the string is non-empty).\n",
        "\n",
        "## Exercice 12\n",
        "\n",
        "1. Display the multiplication table of 2 (factors 1 to 10), using a **`wile`** loop."
      ]
    },
    {
      "cell_type": "code",
      "execution_count": null,
      "metadata": {
        "id": "EkKwnJR3TFW7"
      },
      "outputs": [],
      "source": [
        "## Insert your code here"
      ]
    },
    {
      "cell_type": "markdown",
      "metadata": {},
      "source": [
        "2. Display the multiplication table of 2 (factors 1 to 10), using a **`for`** loop."
      ]
    },
    {
      "cell_type": "code",
      "execution_count": null,
      "metadata": {},
      "outputs": [],
      "source": [
        "## Insert your code here"
      ]
    },
    {
      "cell_type": "markdown",
      "metadata": {
        "id": "juNJqDHWUj0x"
      },
      "source": [
        "# 7 - Function in python\n",
        "\n",
        "Now that the loop structure has been introduced, we will present more advanced use cases.\n",
        "\n",
        "The example of the multiplication table may seem a bit simplistic to you. To make it more general, we will define a **function** that displays this multiplication table for any number (we keep the same factors from 1 to 10 for now).\n",
        "\n",
        "The definition of a function in Python is done as follows:\n",
        "\n",
        "```\n",
        "def my_function(arg_1, arg_2):\n",
        "    instruction_1\n",
        "    ...\n",
        "    instruction_N\n",
        "    return something # if needed\n",
        "```\n",
        "\n",
        "- Define a function, called `simple_multiplication`, that takes a number n as an argument and displays the multiplication table as in previous questions:"
      ]
    },
    {
      "cell_type": "code",
      "execution_count": null,
      "metadata": {
        "id": "Fo3g_l50U3_e"
      },
      "outputs": [],
      "source": [
        "## Insert your code here"
      ]
    },
    {
      "cell_type": "markdown",
      "metadata": {
        "id": "HdhfU7AYT4Ic"
      },
      "source": [
        "## To go further ...\n",
        "### Exercise : Sum of Natural Numbers\n",
        "- Write a Python program to find the sum of all natural numbers between 1 and a given number `n` using a `for` loop.\n",
        "\n",
        "### Exercise : Factorial Calculation\n",
        "- Write a Python program to calculate the factorial of a given number `n` using a `for` loop.\n",
        "\n",
        "### Exercise : Table of Squares\n",
        "- Write a Python program that displays the table of squares from 1 to a given number `n` using a `for` loop. Each line should be formatted as \"`i` squared is `i*i`\".\n",
        "\n",
        "### Exercise : Counting the Occurrences\n",
        "- Write a Python program to count the occurrences of a specific character in a given string using a `for` loop.\n",
        "\n",
        "### Exercise : Accumulating the Elements of a List\n",
        "- Write a Python program to find the cumulative sum of a list using a `for` loop.\n",
        "\n",
        "### Exercise : Reversing a List\n",
        "- Write a Python program to reverse the order of the elements in a list using a `for` loop.\n",
        "\n",
        "### Exercise : Odd-Even Count\n",
        "- Write a Python program to count the number of even and odd numbers from a list of numbers using a `for` loop.\n"
      ]
    },
    {
      "cell_type": "code",
      "execution_count": null,
      "metadata": {
        "id": "rv-clD9BUDZE"
      },
      "outputs": [],
      "source": [
        "## Insert your code here"
      ]
    }
  ],
  "metadata": {
    "colab": {
      "provenance": []
    },
    "kernelspec": {
      "display_name": "Python 3",
      "name": "python3"
    },
    "language_info": {
      "name": "python"
    }
  },
  "nbformat": 4,
  "nbformat_minor": 0
}
