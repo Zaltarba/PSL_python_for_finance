{
  "cells": [
    {
      "cell_type": "markdown",
      "metadata": {
        "id": "9UOkwPFBZUaR"
      },
      "source": [
        "<img src=\"https://dauphine.psl.eu/fileadmin/_processed_/9/2/csm_damier_logo_Dauphine_f7b37a1ff2.jpg\" width=\"200\" style=\"vertical-align:middle\" /> <h1>Master 222: Introduction to Python - Session 3</h1>"
      ]
    },
    {
      "cell_type": "markdown",
      "metadata": {
        "id": "Uc_gjE9_jgBg"
      },
      "source": [
        "[![Open In Colab](https://colab.research.google.com/assets/colab-badge.svg)](https://colab.research.google.com/github/Zaltarba/PSL_python_for_finance/blob/main/python_session_3_corrected.ipynb)"
      ]
    },
    {
      "cell_type": "markdown",
      "metadata": {
        "id": "IsS6rFVOzzxT"
      },
      "source": [
        "# The Pandas library "
      ]
    },
    {
      "cell_type": "markdown",
      "metadata": {
        "id": "8Gegjmsz2u0D"
      },
      "source": [
        "In this exercise, you will learn to use the pandas module. Pandas is a Python package specialized in data manipulation.\n",
        "\n",
        "[For more information on pandas click here](http://pandas.pydata.org/)\n",
        "\n",
        "To begin, you need to import the `pandas` module under the abbreviated name `pd`. Therefore, execute this preamble cell. NumPy will also be used.\n",
        "\n"
      ]
    },
    {
      "cell_type": "code",
      "execution_count": 1,
      "metadata": {
        "id": "IRfUcyiQ2vd-"
      },
      "outputs": [],
      "source": [
        "# Importing necessary libraries\n",
        "import pandas as pd\n",
        "import numpy as np"
      ]
    },
    {
      "cell_type": "markdown",
      "metadata": {
        "id": "zUAalo7kdFK-"
      },
      "source": [
        "## Exercice 1\n",
        "\n",
        "A Series is a one-dimensional array with labels, that can hold any data type. The labels are referred to as the index. Its syntax is as follows: pd.Series(X) where X is a list or an array.  \n",
        "\n",
        "1. Create a Series of 5 data points from a random list of numbers distributed between 0 and 1."
      ]
    },
    {
      "cell_type": "code",
      "execution_count": 2,
      "metadata": {
        "id": "y4ZXi1QTdJb8"
      },
      "outputs": [
        {
          "name": "stdout",
          "output_type": "stream",
          "text": [
            "0    0.01\n",
            "1    0.50\n",
            "2    0.70\n",
            "3    1.00\n",
            "4    0.00\n",
            "dtype: float64\n"
          ]
        }
      ],
      "source": [
        "## Insert your code here\n",
        "X = [0.01, 0.5, 0.7, 1, 0]\n",
        "series = pd.Series(X)\n",
        "print(series)"
      ]
    },
    {
      "cell_type": "markdown",
      "metadata": {
        "id": "xy-8Ur3OdK1R"
      },
      "source": [
        "It is possible to specify the indices using the following syntax: pd.Series(X, index = Y) where X is the data list and Y is a list of associated indices.  \n",
        "\n",
        "2. Create a Series of 4 data points, each with a value of 1, and specify the following list of indices: ['a', 'b', 'c', 'd']."
      ]
    },
    {
      "cell_type": "code",
      "execution_count": 3,
      "metadata": {
        "id": "W4WBtDWkdaqz"
      },
      "outputs": [
        {
          "name": "stdout",
          "output_type": "stream",
          "text": [
            "a    1\n",
            "b    1\n",
            "c    1\n",
            "d    1\n",
            "dtype: int64\n"
          ]
        }
      ],
      "source": [
        "## Insert your code here\n",
        "values = [1, 1, 1, 1]\n",
        "index = ['a', 'b', 'c', 'd']\n",
        "series = pd.Series(values, index=index)\n",
        "print(series)"
      ]
    },
    {
      "cell_type": "markdown",
      "metadata": {
        "id": "tgZswceydg9c"
      },
      "source": [
        "By using indices, you can access the data in the Series in the same way you access elements in a list.  \n",
        "Slicing is also possible.\n",
        "\n",
        "3. Create a variable named series_one and assign it a Series created from a list of 4 random numbers distributed between 0 and 1.\n",
        "4. Use the list of indices from the previous question: ['a', 'b', 'c', 'd'].\n",
        "5. Retrieve the first element of series_one using the corresponding index."
      ]
    },
    {
      "cell_type": "code",
      "execution_count": 4,
      "metadata": {
        "id": "a9NJrEaNduhb"
      },
      "outputs": [
        {
          "name": "stdout",
          "output_type": "stream",
          "text": [
            "1\n"
          ]
        }
      ],
      "source": [
        "## Insert your code here\n",
        "values = [1, 1, 1, 1]\n",
        "index = ['a', 'b', 'c', 'd']\n",
        "series_one = pd.Series(values, index=index, name='test')\n",
        "print(series['a'])"
      ]
    },
    {
      "cell_type": "markdown",
      "metadata": {
        "id": "tUWqNk_kd3jl"
      },
      "source": [
        "6. Change the fourth data point of `series_un` to 0.\n",
        "7. Display `series_un`."
      ]
    },
    {
      "cell_type": "code",
      "execution_count": 5,
      "metadata": {
        "id": "bqOanfROd7tr"
      },
      "outputs": [
        {
          "name": "stdout",
          "output_type": "stream",
          "text": [
            "a    1\n",
            "b    1\n",
            "c    1\n",
            "d    0\n",
            "dtype: int64\n"
          ]
        }
      ],
      "source": [
        "## Insert your code here\n",
        "series['d'] = 0\n",
        "print(series)"
      ]
    },
    {
      "cell_type": "markdown",
      "metadata": {
        "id": "FTcTc90Cd8cV"
      },
      "source": [
        "## Exercice 2\n",
        "\n",
        "Python consistently returns a `dtype: float64` when calling the Series. This represents the data type, in this case floats, and their encoding, here on 64 bits. You can specify the data type you want to handle when creating a Series.\n",
        "\n",
        "Furthermore, you can name the Series using the `name` parameter.\n",
        "\n",
        "1. Create a variable `series_two` from an array of four ones.\n",
        "2. Specify the data type `dtype` as `int`.\n",
        "3. Name this Series `my_series`.\n",
        "4. Display the Series."
      ]
    },
    {
      "cell_type": "code",
      "execution_count": 6,
      "metadata": {
        "id": "rfY959wGeGr7"
      },
      "outputs": [
        {
          "name": "stdout",
          "output_type": "stream",
          "text": [
            "0    1\n",
            "1    1\n",
            "2    1\n",
            "3    1\n",
            "Name: my_series, dtype: int32\n"
          ]
        }
      ],
      "source": [
        "## Insert your code here\n",
        "series_two = pd.Series(np.ones(4), dtype=int, name=\"my_series\")\n",
        "print(series_two)"
      ]
    },
    {
      "cell_type": "markdown",
      "metadata": {
        "id": "PNKXCGTceL0e"
      },
      "source": [
        "The `describe()` function returns a variety of information about the Series it is applied to.\n",
        "\n",
        "5. Create a variable `series_three` from an array of 20 random numbers uniformly distributed between 0 and 1.\n",
        "6. Display information about the Series using `describe()`.\n"
      ]
    },
    {
      "cell_type": "code",
      "execution_count": 7,
      "metadata": {
        "id": "yzfxfUh9eOIU"
      },
      "outputs": [
        {
          "data": {
            "text/plain": [
              "count    20.000000\n",
              "mean      0.531322\n",
              "std       0.317484\n",
              "min       0.059582\n",
              "25%       0.216583\n",
              "50%       0.634685\n",
              "75%       0.785333\n",
              "max       0.989865\n",
              "dtype: float64"
            ]
          },
          "execution_count": 7,
          "metadata": {},
          "output_type": "execute_result"
        }
      ],
      "source": [
        "## Insert your code here\n",
        "series_three = pd.Series(\n",
        "    np.random.uniform(0, 1, size=20)\n",
        "    )\n",
        "series_three.describe()"
      ]
    },
    {
      "cell_type": "markdown",
      "metadata": {
        "id": "QtzE8a1SePyL"
      },
      "source": [
        "It's possible to add Series together. Pandas will sum the data with matching *indices*. If an *index* is missing in one of the Series, the resulting sum Series will display `NaN` (Not a Number) at that index.\n",
        "\n",
        "7. Create a Series `series_four` from an array of 19 random numbers uniformly distributed between 0 and 1.\n",
        "8. Sum `series_three` and `series_four` and look at the result."
      ]
    },
    {
      "cell_type": "code",
      "execution_count": 8,
      "metadata": {
        "id": "Ov2FCuNWeYCV"
      },
      "outputs": [
        {
          "data": {
            "text/plain": [
              "0     0.541507\n",
              "1     0.960788\n",
              "2     1.086364\n",
              "3     1.147712\n",
              "4     1.020546\n",
              "5     0.964261\n",
              "6     0.743018\n",
              "7     1.676067\n",
              "8     1.673172\n",
              "9     0.526035\n",
              "10    1.743074\n",
              "11    1.018972\n",
              "12    0.157461\n",
              "13    0.752815\n",
              "14    0.580857\n",
              "15    1.175900\n",
              "16    1.296516\n",
              "17    1.696715\n",
              "18    0.871672\n",
              "19         NaN\n",
              "dtype: float64"
            ]
          },
          "execution_count": 8,
          "metadata": {},
          "output_type": "execute_result"
        }
      ],
      "source": [
        "## Insert your code here\n",
        "series_four = pd.Series(\n",
        "    np.random.uniform(0, 1, size=19)\n",
        "    )\n",
        "series_three + series_four"
      ]
    },
    {
      "cell_type": "markdown",
      "metadata": {
        "id": "mNJ2fZ44eYd4"
      },
      "source": [
        "However, you can specify a particular value to use where the *indices* do not match during a summation. The following syntax is used:\n",
        "```\n",
        "## Assume a and b are two Series\n",
        "a.add(b, fill_value = 0)  ## we decide to replace with 0\n",
        "```\n",
        "\n",
        "9. Sum `series_three` and `series_four` by specifying fill_value equal to 100."
      ]
    },
    {
      "cell_type": "code",
      "execution_count": 9,
      "metadata": {
        "id": "9baF86eeefac"
      },
      "outputs": [
        {
          "data": {
            "text/plain": [
              "0     0.741019\n",
              "1     0.735129\n",
              "2     0.615017\n",
              "3     1.234801\n",
              "4     1.005808\n",
              "5     0.794237\n",
              "6     0.733299\n",
              "7     1.305130\n",
              "8     0.776037\n",
              "9     1.110181\n",
              "10    1.456773\n",
              "11    1.902158\n",
              "12    1.435543\n",
              "13    0.248733\n",
              "14    1.122243\n",
              "15    1.791011\n",
              "16    0.498384\n",
              "17    0.857394\n",
              "18    1.480271\n",
              "19    0.982595\n",
              "dtype: float64"
            ]
          },
          "execution_count": 9,
          "metadata": {},
          "output_type": "execute_result"
        }
      ],
      "source": [
        "## Insert your code here\n",
        "series_three.add(series_four, fill_value=0)"
      ]
    },
    {
      "cell_type": "markdown",
      "metadata": {
        "id": "GwdPFtD0egED"
      },
      "source": [
        "Lastly, it's possible to use mathematical operators on Series. The following syntax is used:\n",
        "```\n",
        "# Assume a is a Series\n",
        "a[a >= 0.5]  ## returns the data from a greater than 0.5\n",
        "a * 2  ## multiplies the data from a by two\n",
        "```\n",
        "\n",
        "10. Create a variable `a`, and assign it a Series of integer numbers uniformly distributed between 1 and 20, with a size of 20.\n",
        "11. Display the Series with data strictly greater than 10."
      ]
    },
    {
      "cell_type": "code",
      "execution_count": 10,
      "metadata": {
        "id": "2AngWsJteoSc"
      },
      "outputs": [
        {
          "name": "stdout",
          "output_type": "stream",
          "text": [
            "0     12\n",
            "3     15\n",
            "5     13\n",
            "6     12\n",
            "9     13\n",
            "11    17\n",
            "13    17\n",
            "16    19\n",
            "17    13\n",
            "18    14\n",
            "dtype: int32\n"
          ]
        }
      ],
      "source": [
        "## Insert your code here\n",
        "a = pd.Series(np.random.randint(1, 20, size=20))\n",
        "print(a[a > 10])"
      ]
    },
    {
      "cell_type": "markdown",
      "metadata": {
        "id": "WgRFU_qmeo7h"
      },
      "source": [
        "## Exercice 3\n",
        "\n",
        "1. Create an *index* of size 20 that includes \"boy\" or \"girl\" randomly distributed.\n",
        "    - use a list by comprehension\n",
        "2. Create an array of size 20 that displays ages ranging from 3 to 16 years, randomly distributed.\n",
        "3. Create a Series `cousins` with `name = \"my cousins\"`, the index created previously, and data from the array.\n",
        "4. Using the index, create a Series boys and a Series girls filtering the Series `cousins`.\n",
        "    - use `cousins.index`\n",
        "5. Display information about these two Series."
      ]
    },
    {
      "cell_type": "code",
      "execution_count": 11,
      "metadata": {
        "id": "xX3E0v0yfJL7"
      },
      "outputs": [
        {
          "name": "stdout",
          "output_type": "stream",
          "text": [
            "---Cousins Series---\n",
            "boy     14.427794\n",
            "boy     14.513814\n",
            "boy     12.336391\n",
            "girl    10.282653\n",
            "girl    11.205029\n",
            "boy     11.013296\n",
            "boy      6.526813\n",
            "girl     8.485520\n",
            "boy      5.510875\n",
            "boy     15.597534\n",
            "boy     14.519852\n",
            "boy     13.240707\n",
            "girl     8.987558\n",
            "girl    14.595900\n",
            "girl     4.940781\n",
            "boy     12.332713\n",
            "boy      6.234385\n",
            "boy     12.763526\n",
            "boy      8.711327\n",
            "boy      6.724856\n",
            "Name: my_cousins, dtype: float64\n"
          ]
        }
      ],
      "source": [
        "## Insert your code here\n",
        "index = [\"boy\" if p<0.5 else \"girl\" for p in np.random.uniform(0, 1, size=20)]\n",
        "ages = np.random.uniform(3, 16, size=20)\n",
        "cousins = pd.Series(ages, index=index, name=\"my_cousins\")\n",
        "print(\"---Cousins Series---\")\n",
        "print(cousins)"
      ]
    },
    {
      "cell_type": "code",
      "execution_count": 12,
      "metadata": {},
      "outputs": [
        {
          "name": "stdout",
          "output_type": "stream",
          "text": [
            "---Girls Informations---\n",
            "count     6.000000\n",
            "mean      9.749573\n",
            "std       3.199762\n",
            "min       4.940781\n",
            "25%       8.611029\n",
            "50%       9.635105\n",
            "75%      10.974435\n",
            "max      14.595900\n",
            "Name: my_cousins, dtype: float64\n",
            "---Boys Informations---\n",
            "count    14.000000\n",
            "mean     11.032420\n",
            "std       3.569826\n",
            "min       5.510875\n",
            "25%       7.221474\n",
            "50%      12.334552\n",
            "75%      14.131023\n",
            "max      15.597534\n",
            "Name: my_cousins, dtype: float64\n"
          ]
        }
      ],
      "source": [
        "girls = cousins[cousins.index == \"girl\"]\n",
        "boys = cousins[cousins.index == \"boy\"]\n",
        "print(\"---Girls Informations---\")\n",
        "print(girls.describe())\n",
        "print(\"---Boys Informations---\")\n",
        "print(boys.describe())"
      ]
    },
    {
      "cell_type": "markdown",
      "metadata": {
        "id": "4KoD1X7ZfYGX"
      },
      "source": [
        "## Exercice 4\n",
        "\n",
        "Now we turn our attention to DataFrames. DataFrames are the two-dimensional extension of Series. Thus, the *indices* are shared among the columns of the DataFrame.\n",
        "\n",
        "A common way to create a DataFrame is by using a dictionary. The syntax is as follows:\n",
        "```python\n",
        "pd.DataFrame({'Name of the first column': data_1, 'Name of the second column': data_2})\n",
        "```\n",
        "1. Create a DataFrame *df* with two columns: 'Gender' and 'Age', using the data from the previous question.\n",
        "2. Display the DataFrame."
      ]
    },
    {
      "cell_type": "code",
      "execution_count": 13,
      "metadata": {
        "id": "13a135jrfYjz"
      },
      "outputs": [
        {
          "name": "stdout",
          "output_type": "stream",
          "text": [
            "   Gender        Age\n",
            "0     boy  14.427794\n",
            "1     boy  14.513814\n",
            "2     boy  12.336391\n",
            "3    girl  10.282653\n",
            "4    girl  11.205029\n",
            "5     boy  11.013296\n",
            "6     boy   6.526813\n",
            "7    girl   8.485520\n",
            "8     boy   5.510875\n",
            "9     boy  15.597534\n",
            "10    boy  14.519852\n",
            "11    boy  13.240707\n",
            "12   girl   8.987558\n",
            "13   girl  14.595900\n",
            "14   girl   4.940781\n",
            "15    boy  12.332713\n",
            "16    boy   6.234385\n",
            "17    boy  12.763526\n",
            "18    boy   8.711327\n",
            "19    boy   6.724856\n"
          ]
        }
      ],
      "source": [
        "## Insert your code here\n",
        "data = {\n",
        "    'Gender':index, \n",
        "    'Age':ages\n",
        "    }\n",
        "df = pd.DataFrame(data)\n",
        "print(df)"
      ]
    },
    {
      "cell_type": "markdown",
      "metadata": {
        "id": "OjcZjfXDf8AE"
      },
      "source": [
        "3. Create a list *dominant_hand* of size 20 that contains \"left-handed\" or \"right-handed\" distributed randomly.\n",
        "    - Use a list by comprehension \n",
        "4. Add this list as a new column to *df*.  \n",
        "    - Use `df['Dominant_hand'] = dominant_hand`\n",
        "    - When naming columns avoid putting spaces, use _ instead\n"
      ]
    },
    {
      "cell_type": "code",
      "execution_count": 14,
      "metadata": {
        "id": "tLzR35u6gCHl"
      },
      "outputs": [
        {
          "name": "stdout",
          "output_type": "stream",
          "text": [
            "   Gender        Age Dominant_hand\n",
            "0     boy  14.427794  right-handed\n",
            "1     boy  14.513814  right-handed\n",
            "2     boy  12.336391  right-handed\n",
            "3    girl  10.282653  right-handed\n",
            "4    girl  11.205029   left-handed\n",
            "5     boy  11.013296  right-handed\n",
            "6     boy   6.526813  right-handed\n",
            "7    girl   8.485520  right-handed\n",
            "8     boy   5.510875  right-handed\n",
            "9     boy  15.597534   left-handed\n",
            "10    boy  14.519852   left-handed\n",
            "11    boy  13.240707  right-handed\n",
            "12   girl   8.987558   left-handed\n",
            "13   girl  14.595900  right-handed\n",
            "14   girl   4.940781  right-handed\n",
            "15    boy  12.332713  right-handed\n",
            "16    boy   6.234385  right-handed\n",
            "17    boy  12.763526  right-handed\n",
            "18    boy   8.711327  right-handed\n",
            "19    boy   6.724856  right-handed\n"
          ]
        }
      ],
      "source": [
        "## Insert your code here\n",
        "dominant_hand = [\n",
        "    \"left-handed\" if p<0.2 else \"right-handed\" for p in np.random.uniform(0, 1, size=20)\n",
        "    ]\n",
        "df[\"Dominant_hand\"] = dominant_hand\n",
        "print(df)"
      ]
    },
    {
      "cell_type": "markdown",
      "metadata": {
        "id": "vqW6_kc8gKhE"
      },
      "source": [
        "*Slicing* is possible with DataFrames.\n",
        "\n",
        "5. Display the first 5 rows of *data_one*.\n",
        "    - Using slicing \n",
        "    - Using .head() method "
      ]
    },
    {
      "cell_type": "code",
      "execution_count": 15,
      "metadata": {
        "id": "uVkw5CJrgL57"
      },
      "outputs": [
        {
          "data": {
            "text/html": [
              "<div>\n",
              "<style scoped>\n",
              "    .dataframe tbody tr th:only-of-type {\n",
              "        vertical-align: middle;\n",
              "    }\n",
              "\n",
              "    .dataframe tbody tr th {\n",
              "        vertical-align: top;\n",
              "    }\n",
              "\n",
              "    .dataframe thead th {\n",
              "        text-align: right;\n",
              "    }\n",
              "</style>\n",
              "<table border=\"1\" class=\"dataframe\">\n",
              "  <thead>\n",
              "    <tr style=\"text-align: right;\">\n",
              "      <th></th>\n",
              "      <th>Gender</th>\n",
              "      <th>Age</th>\n",
              "      <th>Dominant_hand</th>\n",
              "    </tr>\n",
              "  </thead>\n",
              "  <tbody>\n",
              "    <tr>\n",
              "      <th>0</th>\n",
              "      <td>boy</td>\n",
              "      <td>14.427794</td>\n",
              "      <td>right-handed</td>\n",
              "    </tr>\n",
              "    <tr>\n",
              "      <th>1</th>\n",
              "      <td>boy</td>\n",
              "      <td>14.513814</td>\n",
              "      <td>right-handed</td>\n",
              "    </tr>\n",
              "    <tr>\n",
              "      <th>2</th>\n",
              "      <td>boy</td>\n",
              "      <td>12.336391</td>\n",
              "      <td>right-handed</td>\n",
              "    </tr>\n",
              "    <tr>\n",
              "      <th>3</th>\n",
              "      <td>girl</td>\n",
              "      <td>10.282653</td>\n",
              "      <td>right-handed</td>\n",
              "    </tr>\n",
              "    <tr>\n",
              "      <th>4</th>\n",
              "      <td>girl</td>\n",
              "      <td>11.205029</td>\n",
              "      <td>left-handed</td>\n",
              "    </tr>\n",
              "  </tbody>\n",
              "</table>\n",
              "</div>"
            ],
            "text/plain": [
              "  Gender        Age Dominant_hand\n",
              "0    boy  14.427794  right-handed\n",
              "1    boy  14.513814  right-handed\n",
              "2    boy  12.336391  right-handed\n",
              "3   girl  10.282653  right-handed\n",
              "4   girl  11.205029   left-handed"
            ]
          },
          "execution_count": 15,
          "metadata": {},
          "output_type": "execute_result"
        }
      ],
      "source": [
        "## Insert your code here\n",
        "df[0:5]\n",
        "df.iloc[0:5]"
      ]
    },
    {
      "cell_type": "markdown",
      "metadata": {
        "id": "uWUpzA_YgWN-"
      },
      "source": [
        "6. Display the columns \"Gender\" and \"Dominant Hand\".\n"
      ]
    },
    {
      "cell_type": "code",
      "execution_count": 16,
      "metadata": {},
      "outputs": [
        {
          "name": "stdout",
          "output_type": "stream",
          "text": [
            "0     14.427794\n",
            "1     14.513814\n",
            "2     12.336391\n",
            "3     10.282653\n",
            "4     11.205029\n",
            "5     11.013296\n",
            "6      6.526813\n",
            "7      8.485520\n",
            "8      5.510875\n",
            "9     15.597534\n",
            "10    14.519852\n",
            "11    13.240707\n",
            "12     8.987558\n",
            "13    14.595900\n",
            "14     4.940781\n",
            "15    12.332713\n",
            "16     6.234385\n",
            "17    12.763526\n",
            "18     8.711327\n",
            "19     6.724856\n",
            "Name: Age, dtype: float64\n"
          ]
        }
      ],
      "source": [
        "## Insert your code here\n",
        "print(df['Age'])\n",
        "display(df['Age'])"
      ]
    },
    {
      "cell_type": "markdown",
      "metadata": {
        "id": "m0D92LIRgR0y"
      },
      "source": [
        "## Exercice 5\n",
        "\n",
        "It is possible to concatenate two DataFrames using the command `pd.concat()`. The syntax is as follows:\n",
        "```python\n",
        "# Assume X and Y are two DataFrames\n",
        "pd.concat([X,Y], axis = 0)  ## concatenates vertically\n",
        "pd.concat([X,Y], axis = 1)  ## concatenates horizontally\n",
        "```\n",
        "1. Create a list of size 20 that includes \"red\", \"blue\", or \"green\" distributed randomly.\n",
        "    - use a list by comprehension \n",
        "    - use a dictionnary \n",
        "    - use np.random.randint\n",
        "2. Create a DataFrame df_colors from this list.\n",
        "3. Add a name to the column using the command df_colors.columns = ['Column_Name'].\n",
        "4. Concatenate df and df_colors into df.\n"
      ]
    },
    {
      "cell_type": "code",
      "execution_count": 17,
      "metadata": {
        "id": "JiSwkgRignG7"
      },
      "outputs": [],
      "source": [
        "mapping = {\n",
        "    0:\"blue\", \n",
        "    1:\"red\", \n",
        "    2:\"green\"\n",
        "    }\n",
        "colors = [mapping[c] for c in np.random.randint(3, size=20)]\n",
        "df_colors = pd.DataFrame(colors)\n",
        "df_colors.columns = ['Favourite_colors']\n",
        "\n",
        "df = pd.concat([df, df_colors], axis=1)"
      ]
    },
    {
      "cell_type": "markdown",
      "metadata": {
        "id": "mLsNSRsShgnX"
      },
      "source": [
        "## To Go Further\n",
        "\n",
        "Use pandas documentations or stackoverflow to find the answers of the following exercises.\n",
        "\n",
        "### Basic DataFrame Operations:\n",
        "\n",
        "1. Create a DataFrame from a dictionary with keys: 'Name', 'Age', 'City' and populate it with some data.\n",
        "2. Display the first 5 rows of the DataFrame.\n",
        "3. Display the last 3 rows of the DataFrame.\n",
        "4. Display the data types of each column.\n",
        "\n",
        "### Indexing and Selection:\n",
        "\n",
        "1. Select the 'Name' and 'City' columns from the DataFrame.\n",
        "2. Select the row at index 2 from the DataFrame.\n",
        "3. Select the rows where 'Age' is greater than 25. Display the first 5.\n",
        "\n",
        "### Sorting and Ranking:\n",
        "\n",
        "1. Sort the DataFrame based on 'Age' in descending order.\n",
        "2. Create a variable 'Age_rank', with the oldest as rank 1.\n",
        "\n",
        "### Missing Data:\n",
        "\n",
        "1. Introduce some missing values in the DataFrame using np.nan.\n",
        "    - Create a dataframe using a dictionnary by comprehension \n",
        "    - Do not add missing values to the column Name\n",
        "2. Display the number of missing values for each columns \n",
        "3. Fill the missing values with the mean of the non-missing values.\n",
        "\n",
        "### Grouping and Aggregation:\n",
        "\n",
        "1. Group the DataFrame by 'City' and calculate the mean age for each city.\n",
        "2. Find the maximum and minimum age for each city.\n",
        "3. Create a variable 'Age_rank_by_city', creating a ranking for each city.\n",
        "\n",
        "### Merging, Joining, and Concatenating:\n",
        "\n",
        "1. Create a second DataFrame with keys: 'Name', 'Job Title'.\n",
        "2. Merge the two DataFrames.\n",
        "    - Use df.merge"
      ]
    },
    {
      "cell_type": "code",
      "execution_count": 18,
      "metadata": {
        "id": "JyMcHO9Ah_yc"
      },
      "outputs": [
        {
          "name": "stdout",
          "output_type": "stream",
          "text": [
            "    Name        Age      City\n",
            "0    Jie  75.181961  New York\n",
            "1  Diego  12.577800  New York\n",
            "2   Marc  16.385427  New York\n",
            "3    Ali  27.501240     Pekin\n",
            "4    Bob  33.877191  New York\n",
            "       Name        Age    City\n",
            "197    Jean  52.745618  Munich\n",
            "198  Pierre  35.708605   Paris\n",
            "199  Pierre  57.050936   Paris\n",
            "Name     object\n",
            "Age     float64\n",
            "City     object\n",
            "dtype: object\n"
          ]
        }
      ],
      "source": [
        "## Insert your code here\n",
        "n_population = 200\n",
        "name_list = ['Alice', 'Bob', 'Dan', 'Fred', 'Diego', 'Ali', 'Jie', 'Marc', 'Jean', 'Pierre']\n",
        "names = [name_list[i] for i in np.random.randint(0, len(name_list), size=n_population)]\n",
        "ages = np.random.uniform(1, 100, size=n_population)\n",
        "city_list = ['Paris', 'New York', 'Pekin', 'Munich']\n",
        "cities = [city_list[i] for i in np.random.randint(0, len(city_list), size=n_population)]\n",
        "data = {\n",
        "    'Name':names, 'Age':ages, 'City':cities\n",
        "    }\n",
        "df = pd.DataFrame(data)\n",
        "print(df.head())\n",
        "print(df.tail(3))\n",
        "print(df.dtypes)"
      ]
    },
    {
      "cell_type": "code",
      "execution_count": 19,
      "metadata": {},
      "outputs": [
        {
          "name": "stdout",
          "output_type": "stream",
          "text": [
            "       Name      City\n",
            "0       Jie  New York\n",
            "1     Diego  New York\n",
            "2      Marc  New York\n",
            "3       Ali     Pekin\n",
            "4       Bob  New York\n",
            "..      ...       ...\n",
            "195     Ali     Paris\n",
            "196     Ali    Munich\n",
            "197    Jean    Munich\n",
            "198  Pierre     Paris\n",
            "199  Pierre     Paris\n",
            "\n",
            "[200 rows x 2 columns]\n",
            "Name         Marc\n",
            "Age     16.385427\n",
            "City     New York\n",
            "Name: 2, dtype: object\n",
            "    Name        Age      City\n",
            "0    Jie  75.181961  New York\n",
            "3    Ali  27.501240     Pekin\n",
            "4    Bob  33.877191  New York\n",
            "6   Marc  98.309515     Paris\n",
            "7  Alice  42.011037    Munich\n"
          ]
        }
      ],
      "source": [
        "print(df[['Name', 'City']])\n",
        "print(df.loc[2, :])\n",
        "print(df[df['Age'] > 25].head())\n",
        "\n",
        "df = df.sort_values(by='Age')\n",
        "df['Age_rank'] = df['Age'].rank()\n",
        "\n",
        "missing_values = {col:[np.nan for _ in range(len(name_list))] for col in df.columns}\n",
        "missing_values['Name'] = name_list\n",
        "missing_values = pd.DataFrame(missing_values)\n",
        "\n",
        "for col in df.columns:\n",
        "    if df[col].isna().sum() > 0:\n",
        "        df[col] = df[col].fillna(value=df[col].mean())"
      ]
    },
    {
      "cell_type": "code",
      "execution_count": 20,
      "metadata": {},
      "outputs": [
        {
          "name": "stdout",
          "output_type": "stream",
          "text": [
            "City\n",
            "Munich      42.550614\n",
            "New York    48.285032\n",
            "Paris       52.315989\n",
            "Pekin       53.153915\n",
            "Name: Age, dtype: float64\n",
            "City\n",
            "Munich      2.300939\n",
            "New York    1.111096\n",
            "Paris       3.562371\n",
            "Pekin       1.170943\n",
            "Name: Age, dtype: float64\n",
            "City\n",
            "Munich      98.603261\n",
            "New York    98.601661\n",
            "Paris       98.367082\n",
            "Pekin       99.410013\n",
            "Name: Age, dtype: float64\n"
          ]
        }
      ],
      "source": [
        "print(df.groupby('City')['Age'].mean())\n",
        "print(df.groupby('City')['Age'].min())\n",
        "print(df.groupby('City')['Age'].max())"
      ]
    },
    {
      "cell_type": "code",
      "execution_count": 21,
      "metadata": {},
      "outputs": [
        {
          "data": {
            "text/html": [
              "<div>\n",
              "<style scoped>\n",
              "    .dataframe tbody tr th:only-of-type {\n",
              "        vertical-align: middle;\n",
              "    }\n",
              "\n",
              "    .dataframe tbody tr th {\n",
              "        vertical-align: top;\n",
              "    }\n",
              "\n",
              "    .dataframe thead th {\n",
              "        text-align: right;\n",
              "    }\n",
              "</style>\n",
              "<table border=\"1\" class=\"dataframe\">\n",
              "  <thead>\n",
              "    <tr style=\"text-align: right;\">\n",
              "      <th></th>\n",
              "      <th>Name</th>\n",
              "      <th>Age</th>\n",
              "      <th>City</th>\n",
              "      <th>Age_rank</th>\n",
              "      <th>Age_rank_by_city</th>\n",
              "      <th>Job_Title</th>\n",
              "    </tr>\n",
              "  </thead>\n",
              "  <tbody>\n",
              "    <tr>\n",
              "      <th>0</th>\n",
              "      <td>Marc</td>\n",
              "      <td>1.111096</td>\n",
              "      <td>New York</td>\n",
              "      <td>1.0</td>\n",
              "      <td>1.0</td>\n",
              "      <td>Quant Researcher</td>\n",
              "    </tr>\n",
              "    <tr>\n",
              "      <th>1</th>\n",
              "      <td>Marc</td>\n",
              "      <td>1.111096</td>\n",
              "      <td>New York</td>\n",
              "      <td>1.0</td>\n",
              "      <td>1.0</td>\n",
              "      <td>Quant Researcher</td>\n",
              "    </tr>\n",
              "    <tr>\n",
              "      <th>2</th>\n",
              "      <td>Marc</td>\n",
              "      <td>1.111096</td>\n",
              "      <td>New York</td>\n",
              "      <td>1.0</td>\n",
              "      <td>1.0</td>\n",
              "      <td>Analyst</td>\n",
              "    </tr>\n",
              "    <tr>\n",
              "      <th>3</th>\n",
              "      <td>Marc</td>\n",
              "      <td>1.111096</td>\n",
              "      <td>New York</td>\n",
              "      <td>1.0</td>\n",
              "      <td>1.0</td>\n",
              "      <td>Portfolio Manager</td>\n",
              "    </tr>\n",
              "    <tr>\n",
              "      <th>4</th>\n",
              "      <td>Marc</td>\n",
              "      <td>1.111096</td>\n",
              "      <td>New York</td>\n",
              "      <td>1.0</td>\n",
              "      <td>1.0</td>\n",
              "      <td>Quant Researcher</td>\n",
              "    </tr>\n",
              "  </tbody>\n",
              "</table>\n",
              "</div>"
            ],
            "text/plain": [
              "   Name       Age      City  Age_rank  Age_rank_by_city          Job_Title\n",
              "0  Marc  1.111096  New York       1.0               1.0   Quant Researcher\n",
              "1  Marc  1.111096  New York       1.0               1.0   Quant Researcher\n",
              "2  Marc  1.111096  New York       1.0               1.0            Analyst\n",
              "3  Marc  1.111096  New York       1.0               1.0  Portfolio Manager\n",
              "4  Marc  1.111096  New York       1.0               1.0   Quant Researcher"
            ]
          },
          "execution_count": 21,
          "metadata": {},
          "output_type": "execute_result"
        }
      ],
      "source": [
        "df['Age_rank_by_city'] = df.groupby('City')['Age'].rank()\n",
        "\n",
        "jobs_list = ['Quant Researcher', 'Portfolio Manager', 'Structurer', 'Sales', 'Analyst', 'Commando', 'Trader']\n",
        "jobs = [jobs_list[i] for i in np.random.randint(0, len(jobs_list), size=len(df))]\n",
        "\n",
        "data_bis = {\n",
        "    \"Name\":df['Name'].values, \n",
        "    \"Job_Title\":jobs\n",
        "}\n",
        "\n",
        "df_bis = pd.DataFrame(data_bis)\n",
        "df = df.merge(df_bis)\n",
        "df.head()"
      ]
    },
    {
      "cell_type": "code",
      "execution_count": null,
      "metadata": {},
      "outputs": [],
      "source": []
    }
  ],
  "metadata": {
    "colab": {
      "provenance": []
    },
    "kernelspec": {
      "display_name": "Python 3",
      "name": "python3"
    },
    "language_info": {
      "codemirror_mode": {
        "name": "ipython",
        "version": 3
      },
      "file_extension": ".py",
      "mimetype": "text/x-python",
      "name": "python",
      "nbconvert_exporter": "python",
      "pygments_lexer": "ipython3",
      "version": "3.11.5"
    }
  },
  "nbformat": 4,
  "nbformat_minor": 0
}
