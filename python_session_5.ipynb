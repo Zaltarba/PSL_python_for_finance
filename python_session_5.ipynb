{
  "cells": [
    {
      "cell_type": "markdown",
      "metadata": {
        "id": "p1WzPxY0ZLwS"
      },
      "source": [
        "<img src=\"https://dauphine.psl.eu/fileadmin/_processed_/9/2/csm_damier_logo_Dauphine_f7b37a1ff2.jpg\" width=\"200\" style=\"vertical-align:middle\" /> <h1>Master 222: Introduction to Python - Session 5</h1>\n",
        "\n",
        "\n",
        "\n"
      ]
    },
    {
      "cell_type": "markdown",
      "metadata": {
        "id": "n1PHyLbh0m2v"
      },
      "source": [
        "[![Open In Colab](https://colab.research.google.com/assets/colab-badge.svg)](https://colab.research.google.com/github/Zaltarba/PSL_python_for_finance/blob/main/python_session_5.ipynb)"
      ]
    },
    {
      "cell_type": "markdown",
      "metadata": {
        "id": "7ZOC-JWDzRYC"
      },
      "source": [
        "# Introduction to yfinance\n",
        "\n",
        "### What is yfinance?\n",
        "\n",
        "`yfinance` stands for Yahoo Finance, and the `yfinance` library in Python allows you to access financial data from Yahoo! Finance. This can include stock prices, historical data, financial statements, and much more.\n",
        "\n",
        "### Why use `yfinance`?\n",
        "\n",
        "If you're interested in financial analysis, algorithmic trading, or just want to understand how the stock market behaves over time, `yfinance` is a great tool to start with. With just a few lines of Python code, you can retrieve vast amounts of financial data.\n",
        "\n",
        "### Getting Started\n",
        "\n",
        "Start by importing the library:\n",
        "```\n",
        "import yfinance as yf\n",
        "```\n",
        "Fetching Data:\n",
        "\n",
        "You can fetch data for a specific stock or index. Here's how to get the historical data for Apple Inc. (AAPL) for the past month:\n",
        "```\n",
        "data = yf.download(\"AAPL\", period=\"1mo\")\n",
        "print(data)\n",
        "```\n",
        "\n",
        "- Fetch the data for AAPL\n",
        "- Using matplotlib.pyplot, plot the closing prices\n",
        "\n"
      ]
    },
    {
      "cell_type": "code",
      "execution_count": 51,
      "metadata": {
        "id": "S5UhzfJEz4Ya"
      },
      "outputs": [],
      "source": [
        "## Insert your code here\n"
      ]
    },
    {
      "cell_type": "markdown",
      "metadata": {
        "id": "MVHsa6z60TeQ"
      },
      "source": [
        "**Exercise: Analyzing Historical Stock Prices**\n",
        "> Context:\n",
        "You are a financial analyst at an investment firm. You have been given a dataset containing historical stock prices of several companies over the past decade. Your task is to clean, analyze, and visualize the data to help the firm make informed investment decisions.\n",
        "\n",
        "> Dataset:\n",
        "The dataset contains the following columns: 'Date', 'Ticker', 'Open', 'High', 'Low', 'Close', 'Volume'.\n",
        "\n",
        "\n",
        "**Data Loading and Inspection**:\n",
        "\n",
        "- Fetch the historical stock price data for 'AAPL'.\n",
        "- Display the first 10 rows of the dataset.\n",
        "- Check for any missing values in the dataset.\n",
        "\n",
        "**Data Cleaning**:\n",
        "\n",
        "- Handle any missing values: You can either fill them using methods such as forward fill, backward fill, or interpolation, or you can choose to drop rows with missing values.\n",
        "- Convert the 'Date' column to a datetime format if it isn't already..\n",
        "\n",
        "**Data Transformation**:\n",
        "\n",
        "- Make the 'Date' column the index of the DataFrame to facilitate time series analysis.\n",
        "- Compute a new column 'Price_Average', which is the arithmetic mean of the 'High' and 'Low' prices for each trading day.\n",
        "\n",
        "**Data Analysis**:\n",
        "\n",
        "- Determine the specific date when the trading volume for Apple Inc. was at its peak.\n",
        "- Compute the monthly average of the 'Close' price to understand monthly performance trends.\n",
        "\n",
        "**Data Aggregation**:\n",
        "\n",
        "- Calculate the total trading volume and average closing price for each company over the period.\n",
        "\n",
        "**File I/O**:\n",
        "\n",
        "- Save the cleaned and transformed dataset to a new CSV file.\n",
        "- Save the plots as image files.\n",
        "\n",
        "**Bonus**:\n",
        "\n",
        "- Use a simple linear regression model to attempt predictions of future stock prices based on historical data. This will provide a rudimentary forecast which can be enhanced with more complex models.\n",
        "- Implement a basic moving average trading strategy. For instance, consider using a 50-day and a 200-day moving average. Generate buy signals when the 50-day moving average crosses above the 200-day moving average, and sell signals when it crosses below. Backtest this strategy to gauge its historical performance."
      ]
    },
    {
      "cell_type": "code",
      "execution_count": 52,
      "metadata": {
        "id": "2EZ9Mmwr8Onf"
      },
      "outputs": [],
      "source": [
        "## Insert your code here"
      ]
    },
    {
      "cell_type": "markdown",
      "metadata": {
        "id": "sGiyABYwxY5L"
      },
      "source": [
        "**Exercice TO DO: Momentum Strategy on 50 Stocks**\n",
        "\n",
        "## Objective\n",
        "Explore the performance of a simple momentum strategy on a subset of 50 stocks.\n",
        "\n",
        "## Procedure\n",
        "\n",
        "### 1. Stock Selection \n",
        "- Use `pandas` to fetch the list of all tickers from [this link](https://en.wikipedia.org/wiki/List_of_S%26P_500_companies)\n",
        "    - Use pd.read_html\n",
        "- Randomly select 50 stocks from this list.\n",
        "\n",
        "### 2. Data Collection\n",
        "- For each stock, download the daily adjusted closing prices for the last 365 days.\n",
        "- Store this data in a pandas DataFrame with dates as the index.\n",
        "\n",
        "### 3. Momentum Calculation\n",
        "- Define momentum as the percentage change in the stock price over the previous n days (e.g., n=21 for a month).\n",
        "- Using pandas, compute the momentum for each stock for each day.\n",
        "- Rank the stocks based on their momentum every day.\n",
        "\n",
        "### 4. Strategy\n",
        "\n",
        "1. At the beginning of each month, buy the top 10 stocks based on momentum from the previous month.\n",
        "2. At the end of the month, sell all the stocks.\n",
        "3. Repeat this process for each month in your dataset.\n",
        "\n",
        "### 5. Performance Analysis\n",
        "\n",
        "- Calculate the monthly and annualized return of this strategy.\n",
        "- Compare the strategy's performance against a benchmark (e.g., S&P 500).\n",
        "- Plot the cumulative returns of your strategy and the benchmark.\n",
        "\n",
        "### 6. Risk Analysis\n",
        "- Using numpy, compute the standard deviation of the monthly returns to get a measure of the strategy's risk.\n",
        "- Calculate the Sharpe Ratio.\n",
        "\n",
        "## Hints\n",
        "\n",
        "- To get the tickers list:\n",
        "```python\n",
        "import requests\n",
        "\n",
        "# URL of the Wikipedia page\n",
        "url = \"https://en.wikipedia.org/wiki/List_of_S%26P_500_companies\"\n",
        "\n",
        "# Set headers to mimic a browser\n",
        "headers = {\n",
        "    \"User-Agent\": \"Mozilla/5.0\"\n",
        "}\n",
        "\n",
        "# Send the HTTP request with custom headers\n",
        "response = requests.get(url, headers=headers)\n",
        "\n",
        "# Use pandas to read the HTML from the response content\n",
        "tables = pd.read_html(response.text)\n",
        "```"
      ]
    },
    {
      "cell_type": "code",
      "execution_count": null,
      "metadata": {
        "id": "jUBK1J7myTzJ"
      },
      "outputs": [],
      "source": [
        "## Insert your code here"
      ]
    }
  ],
  "metadata": {
    "colab": {
      "provenance": []
    },
    "kernelspec": {
      "display_name": "Python 3",
      "name": "python3"
    },
    "language_info": {
      "name": "python"
    }
  },
  "nbformat": 4,
  "nbformat_minor": 0
}
